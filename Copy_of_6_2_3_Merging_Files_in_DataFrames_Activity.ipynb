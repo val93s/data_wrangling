{
  "cells": [
    {
      "cell_type": "markdown",
      "metadata": {
        "id": "view-in-github",
        "colab_type": "text"
      },
      "source": [
        "<a href=\"https://colab.research.google.com/github/val93s/data_wrangling/blob/main/Copy_of_6_2_3_Merging_Files_in_DataFrames_Activity.ipynb\" target=\"_parent\"><img src=\"https://colab.research.google.com/assets/colab-badge.svg\" alt=\"Open In Colab\"/></a>"
      ]
    },
    {
      "cell_type": "markdown",
      "id": "fe28d818",
      "metadata": {
        "id": "fe28d818"
      },
      "source": [
        "# Guided Activity: Merging Client Data\n",
        "\n",
        "Typically, the bank does not keep client information with their personal financial information. However, for analysis purposes, we will need to reveal which bank accounts belong to which client. \n",
        "\n",
        "In this activity, you will: \n",
        "* Read each CSV file into a DataFrame.\n",
        "* Use the `.merge()` function to perform four different types of joins. \n",
        "* Determine which `join` is appropriate for our purposes."
      ]
    },
    {
      "cell_type": "markdown",
      "id": "3fdf3ec4",
      "metadata": {
        "id": "3fdf3ec4"
      },
      "source": [
        "**Step 1: Import Pandas as pd.**"
      ]
    },
    {
      "cell_type": "code",
      "execution_count": null,
      "id": "353e6989",
      "metadata": {
        "id": "353e6989"
      },
      "outputs": [],
      "source": [
        "import pandas as pd"
      ]
    },
    {
      "cell_type": "markdown",
      "id": "d4f0358c",
      "metadata": {
        "id": "d4f0358c"
      },
      "source": [
        "**Step 2: Read each file into a separate DataFrame.** \n",
        "\n",
        "Read ***ClientData_1.csv*** into a DataFrame with a name of your choice. Do the same for ***ClientData_2.csv***. "
      ]
    },
    {
      "cell_type": "code",
      "execution_count": null,
      "id": "0f9c4f3a",
      "metadata": {
        "id": "0f9c4f3a"
      },
      "outputs": [],
      "source": [
        "client_data_1 = pd.read_csv('ClientData_1.csv')\n",
        "client_data_2 = pd.read_csv('ClientData_2.csv')"
      ]
    },
    {
      "cell_type": "code",
      "source": [
        "client_data_1.head()"
      ],
      "metadata": {
        "colab": {
          "base_uri": "https://localhost:8080/",
          "height": 206
        },
        "id": "qhiAMmxn3pXy",
        "outputId": "bbcc4d19-e929-4547-ab08-b42e62ea5ce6"
      },
      "id": "qhiAMmxn3pXy",
      "execution_count": null,
      "outputs": [
        {
          "output_type": "execute_result",
          "data": {
            "text/plain": [
              "  Account_Num First_Name Last_Name                Email        CC_Num  \\\n",
              "0  19-9089842      Melli    Devote   mdevote0@globo.com  2.018020e+14   \n",
              "1  14-3382564      Paulo  Freiberg   pfreiberg1@usa.gov  6.334730e+17   \n",
              "2  21-9295986      Alain       Gay        agay2@wix.com  3.553910e+15   \n",
              "3  78-7512467       Tore    Subhan     tsubhan3@ibm.com  5.893750e+18   \n",
              "4  90-5975226     Damien     Klais  dklais4@tinypic.com  6.706640e+18   \n",
              "\n",
              "  Current_Bal  \n",
              "0      $3.68B  \n",
              "1     $42.28M  \n",
              "2      $2.59B  \n",
              "3     $193.2M  \n",
              "4    $187.49M  "
            ],
            "text/html": [
              "\n",
              "  <div id=\"df-d5a66363-bc24-4ead-a72f-37fa2ce14174\">\n",
              "    <div class=\"colab-df-container\">\n",
              "      <div>\n",
              "<style scoped>\n",
              "    .dataframe tbody tr th:only-of-type {\n",
              "        vertical-align: middle;\n",
              "    }\n",
              "\n",
              "    .dataframe tbody tr th {\n",
              "        vertical-align: top;\n",
              "    }\n",
              "\n",
              "    .dataframe thead th {\n",
              "        text-align: right;\n",
              "    }\n",
              "</style>\n",
              "<table border=\"1\" class=\"dataframe\">\n",
              "  <thead>\n",
              "    <tr style=\"text-align: right;\">\n",
              "      <th></th>\n",
              "      <th>Account_Num</th>\n",
              "      <th>First_Name</th>\n",
              "      <th>Last_Name</th>\n",
              "      <th>Email</th>\n",
              "      <th>CC_Num</th>\n",
              "      <th>Current_Bal</th>\n",
              "    </tr>\n",
              "  </thead>\n",
              "  <tbody>\n",
              "    <tr>\n",
              "      <th>0</th>\n",
              "      <td>19-9089842</td>\n",
              "      <td>Melli</td>\n",
              "      <td>Devote</td>\n",
              "      <td>mdevote0@globo.com</td>\n",
              "      <td>2.018020e+14</td>\n",
              "      <td>$3.68B</td>\n",
              "    </tr>\n",
              "    <tr>\n",
              "      <th>1</th>\n",
              "      <td>14-3382564</td>\n",
              "      <td>Paulo</td>\n",
              "      <td>Freiberg</td>\n",
              "      <td>pfreiberg1@usa.gov</td>\n",
              "      <td>6.334730e+17</td>\n",
              "      <td>$42.28M</td>\n",
              "    </tr>\n",
              "    <tr>\n",
              "      <th>2</th>\n",
              "      <td>21-9295986</td>\n",
              "      <td>Alain</td>\n",
              "      <td>Gay</td>\n",
              "      <td>agay2@wix.com</td>\n",
              "      <td>3.553910e+15</td>\n",
              "      <td>$2.59B</td>\n",
              "    </tr>\n",
              "    <tr>\n",
              "      <th>3</th>\n",
              "      <td>78-7512467</td>\n",
              "      <td>Tore</td>\n",
              "      <td>Subhan</td>\n",
              "      <td>tsubhan3@ibm.com</td>\n",
              "      <td>5.893750e+18</td>\n",
              "      <td>$193.2M</td>\n",
              "    </tr>\n",
              "    <tr>\n",
              "      <th>4</th>\n",
              "      <td>90-5975226</td>\n",
              "      <td>Damien</td>\n",
              "      <td>Klais</td>\n",
              "      <td>dklais4@tinypic.com</td>\n",
              "      <td>6.706640e+18</td>\n",
              "      <td>$187.49M</td>\n",
              "    </tr>\n",
              "  </tbody>\n",
              "</table>\n",
              "</div>\n",
              "      <button class=\"colab-df-convert\" onclick=\"convertToInteractive('df-d5a66363-bc24-4ead-a72f-37fa2ce14174')\"\n",
              "              title=\"Convert this dataframe to an interactive table.\"\n",
              "              style=\"display:none;\">\n",
              "        \n",
              "  <svg xmlns=\"http://www.w3.org/2000/svg\" height=\"24px\"viewBox=\"0 0 24 24\"\n",
              "       width=\"24px\">\n",
              "    <path d=\"M0 0h24v24H0V0z\" fill=\"none\"/>\n",
              "    <path d=\"M18.56 5.44l.94 2.06.94-2.06 2.06-.94-2.06-.94-.94-2.06-.94 2.06-2.06.94zm-11 1L8.5 8.5l.94-2.06 2.06-.94-2.06-.94L8.5 2.5l-.94 2.06-2.06.94zm10 10l.94 2.06.94-2.06 2.06-.94-2.06-.94-.94-2.06-.94 2.06-2.06.94z\"/><path d=\"M17.41 7.96l-1.37-1.37c-.4-.4-.92-.59-1.43-.59-.52 0-1.04.2-1.43.59L10.3 9.45l-7.72 7.72c-.78.78-.78 2.05 0 2.83L4 21.41c.39.39.9.59 1.41.59.51 0 1.02-.2 1.41-.59l7.78-7.78 2.81-2.81c.8-.78.8-2.07 0-2.86zM5.41 20L4 18.59l7.72-7.72 1.47 1.35L5.41 20z\"/>\n",
              "  </svg>\n",
              "      </button>\n",
              "      \n",
              "  <style>\n",
              "    .colab-df-container {\n",
              "      display:flex;\n",
              "      flex-wrap:wrap;\n",
              "      gap: 12px;\n",
              "    }\n",
              "\n",
              "    .colab-df-convert {\n",
              "      background-color: #E8F0FE;\n",
              "      border: none;\n",
              "      border-radius: 50%;\n",
              "      cursor: pointer;\n",
              "      display: none;\n",
              "      fill: #1967D2;\n",
              "      height: 32px;\n",
              "      padding: 0 0 0 0;\n",
              "      width: 32px;\n",
              "    }\n",
              "\n",
              "    .colab-df-convert:hover {\n",
              "      background-color: #E2EBFA;\n",
              "      box-shadow: 0px 1px 2px rgba(60, 64, 67, 0.3), 0px 1px 3px 1px rgba(60, 64, 67, 0.15);\n",
              "      fill: #174EA6;\n",
              "    }\n",
              "\n",
              "    [theme=dark] .colab-df-convert {\n",
              "      background-color: #3B4455;\n",
              "      fill: #D2E3FC;\n",
              "    }\n",
              "\n",
              "    [theme=dark] .colab-df-convert:hover {\n",
              "      background-color: #434B5C;\n",
              "      box-shadow: 0px 1px 3px 1px rgba(0, 0, 0, 0.15);\n",
              "      filter: drop-shadow(0px 1px 2px rgba(0, 0, 0, 0.3));\n",
              "      fill: #FFFFFF;\n",
              "    }\n",
              "  </style>\n",
              "\n",
              "      <script>\n",
              "        const buttonEl =\n",
              "          document.querySelector('#df-d5a66363-bc24-4ead-a72f-37fa2ce14174 button.colab-df-convert');\n",
              "        buttonEl.style.display =\n",
              "          google.colab.kernel.accessAllowed ? 'block' : 'none';\n",
              "\n",
              "        async function convertToInteractive(key) {\n",
              "          const element = document.querySelector('#df-d5a66363-bc24-4ead-a72f-37fa2ce14174');\n",
              "          const dataTable =\n",
              "            await google.colab.kernel.invokeFunction('convertToInteractive',\n",
              "                                                     [key], {});\n",
              "          if (!dataTable) return;\n",
              "\n",
              "          const docLinkHtml = 'Like what you see? Visit the ' +\n",
              "            '<a target=\"_blank\" href=https://colab.research.google.com/notebooks/data_table.ipynb>data table notebook</a>'\n",
              "            + ' to learn more about interactive tables.';\n",
              "          element.innerHTML = '';\n",
              "          dataTable['output_type'] = 'display_data';\n",
              "          await google.colab.output.renderOutput(dataTable, element);\n",
              "          const docLink = document.createElement('div');\n",
              "          docLink.innerHTML = docLinkHtml;\n",
              "          element.appendChild(docLink);\n",
              "        }\n",
              "      </script>\n",
              "    </div>\n",
              "  </div>\n",
              "  "
            ]
          },
          "metadata": {},
          "execution_count": 3
        }
      ]
    },
    {
      "cell_type": "code",
      "source": [
        "client_data_1.shape"
      ],
      "metadata": {
        "colab": {
          "base_uri": "https://localhost:8080/"
        },
        "id": "uTMtyEAB5hTN",
        "outputId": "ac062fb5-1947-47a4-a369-abc366813645"
      },
      "id": "uTMtyEAB5hTN",
      "execution_count": null,
      "outputs": [
        {
          "output_type": "execute_result",
          "data": {
            "text/plain": [
              "(419, 6)"
            ]
          },
          "metadata": {},
          "execution_count": 11
        }
      ]
    },
    {
      "cell_type": "code",
      "source": [
        "client_data_2.shape"
      ],
      "metadata": {
        "colab": {
          "base_uri": "https://localhost:8080/"
        },
        "id": "JdhnTX8m5pYq",
        "outputId": "0121cb3a-5386-4869-ee43-63ef4446eee7"
      },
      "id": "JdhnTX8m5pYq",
      "execution_count": null,
      "outputs": [
        {
          "output_type": "execute_result",
          "data": {
            "text/plain": [
              "(356, 6)"
            ]
          },
          "metadata": {},
          "execution_count": 12
        }
      ]
    },
    {
      "cell_type": "code",
      "source": [
        "client_data_2.head()"
      ],
      "metadata": {
        "colab": {
          "base_uri": "https://localhost:8080/",
          "height": 206
        },
        "id": "nfxzLQBU3uzl",
        "outputId": "5cf4a0b1-edb1-42e4-ea35-06142d6e0865"
      },
      "id": "nfxzLQBU3uzl",
      "execution_count": null,
      "outputs": [
        {
          "output_type": "execute_result",
          "data": {
            "text/plain": [
              "   Account_Num First_Name  Last_Name                           Email  \\\n",
              "0  88-067-8282       Alvy     Benech            abenechgg@unicef.org   \n",
              "1  87-164-1431      Adler     Ferney  aferneygh@networksolutions.com   \n",
              "2  45-727-7483      Colet  Bartaloni            cbartalonigi@ted.com   \n",
              "3  35-250-7814     Jennie     Leddie             jleddiegj@wufoo.com   \n",
              "4  32-197-8907  Alexandro   Blanning          ablanninggk@toplist.cz   \n",
              "\n",
              "         CC_Num Current_Bal  \n",
              "0  3.540000e+15      $4.97B  \n",
              "1  3.560000e+15     $96.78M  \n",
              "2  5.610000e+16     $68.78M  \n",
              "3  3.530000e+15    $404.02M  \n",
              "4  4.900000e+15    $710.31M  "
            ],
            "text/html": [
              "\n",
              "  <div id=\"df-9609c98c-9459-4e2d-a8bd-780bdb50d380\">\n",
              "    <div class=\"colab-df-container\">\n",
              "      <div>\n",
              "<style scoped>\n",
              "    .dataframe tbody tr th:only-of-type {\n",
              "        vertical-align: middle;\n",
              "    }\n",
              "\n",
              "    .dataframe tbody tr th {\n",
              "        vertical-align: top;\n",
              "    }\n",
              "\n",
              "    .dataframe thead th {\n",
              "        text-align: right;\n",
              "    }\n",
              "</style>\n",
              "<table border=\"1\" class=\"dataframe\">\n",
              "  <thead>\n",
              "    <tr style=\"text-align: right;\">\n",
              "      <th></th>\n",
              "      <th>Account_Num</th>\n",
              "      <th>First_Name</th>\n",
              "      <th>Last_Name</th>\n",
              "      <th>Email</th>\n",
              "      <th>CC_Num</th>\n",
              "      <th>Current_Bal</th>\n",
              "    </tr>\n",
              "  </thead>\n",
              "  <tbody>\n",
              "    <tr>\n",
              "      <th>0</th>\n",
              "      <td>88-067-8282</td>\n",
              "      <td>Alvy</td>\n",
              "      <td>Benech</td>\n",
              "      <td>abenechgg@unicef.org</td>\n",
              "      <td>3.540000e+15</td>\n",
              "      <td>$4.97B</td>\n",
              "    </tr>\n",
              "    <tr>\n",
              "      <th>1</th>\n",
              "      <td>87-164-1431</td>\n",
              "      <td>Adler</td>\n",
              "      <td>Ferney</td>\n",
              "      <td>aferneygh@networksolutions.com</td>\n",
              "      <td>3.560000e+15</td>\n",
              "      <td>$96.78M</td>\n",
              "    </tr>\n",
              "    <tr>\n",
              "      <th>2</th>\n",
              "      <td>45-727-7483</td>\n",
              "      <td>Colet</td>\n",
              "      <td>Bartaloni</td>\n",
              "      <td>cbartalonigi@ted.com</td>\n",
              "      <td>5.610000e+16</td>\n",
              "      <td>$68.78M</td>\n",
              "    </tr>\n",
              "    <tr>\n",
              "      <th>3</th>\n",
              "      <td>35-250-7814</td>\n",
              "      <td>Jennie</td>\n",
              "      <td>Leddie</td>\n",
              "      <td>jleddiegj@wufoo.com</td>\n",
              "      <td>3.530000e+15</td>\n",
              "      <td>$404.02M</td>\n",
              "    </tr>\n",
              "    <tr>\n",
              "      <th>4</th>\n",
              "      <td>32-197-8907</td>\n",
              "      <td>Alexandro</td>\n",
              "      <td>Blanning</td>\n",
              "      <td>ablanninggk@toplist.cz</td>\n",
              "      <td>4.900000e+15</td>\n",
              "      <td>$710.31M</td>\n",
              "    </tr>\n",
              "  </tbody>\n",
              "</table>\n",
              "</div>\n",
              "      <button class=\"colab-df-convert\" onclick=\"convertToInteractive('df-9609c98c-9459-4e2d-a8bd-780bdb50d380')\"\n",
              "              title=\"Convert this dataframe to an interactive table.\"\n",
              "              style=\"display:none;\">\n",
              "        \n",
              "  <svg xmlns=\"http://www.w3.org/2000/svg\" height=\"24px\"viewBox=\"0 0 24 24\"\n",
              "       width=\"24px\">\n",
              "    <path d=\"M0 0h24v24H0V0z\" fill=\"none\"/>\n",
              "    <path d=\"M18.56 5.44l.94 2.06.94-2.06 2.06-.94-2.06-.94-.94-2.06-.94 2.06-2.06.94zm-11 1L8.5 8.5l.94-2.06 2.06-.94-2.06-.94L8.5 2.5l-.94 2.06-2.06.94zm10 10l.94 2.06.94-2.06 2.06-.94-2.06-.94-.94-2.06-.94 2.06-2.06.94z\"/><path d=\"M17.41 7.96l-1.37-1.37c-.4-.4-.92-.59-1.43-.59-.52 0-1.04.2-1.43.59L10.3 9.45l-7.72 7.72c-.78.78-.78 2.05 0 2.83L4 21.41c.39.39.9.59 1.41.59.51 0 1.02-.2 1.41-.59l7.78-7.78 2.81-2.81c.8-.78.8-2.07 0-2.86zM5.41 20L4 18.59l7.72-7.72 1.47 1.35L5.41 20z\"/>\n",
              "  </svg>\n",
              "      </button>\n",
              "      \n",
              "  <style>\n",
              "    .colab-df-container {\n",
              "      display:flex;\n",
              "      flex-wrap:wrap;\n",
              "      gap: 12px;\n",
              "    }\n",
              "\n",
              "    .colab-df-convert {\n",
              "      background-color: #E8F0FE;\n",
              "      border: none;\n",
              "      border-radius: 50%;\n",
              "      cursor: pointer;\n",
              "      display: none;\n",
              "      fill: #1967D2;\n",
              "      height: 32px;\n",
              "      padding: 0 0 0 0;\n",
              "      width: 32px;\n",
              "    }\n",
              "\n",
              "    .colab-df-convert:hover {\n",
              "      background-color: #E2EBFA;\n",
              "      box-shadow: 0px 1px 2px rgba(60, 64, 67, 0.3), 0px 1px 3px 1px rgba(60, 64, 67, 0.15);\n",
              "      fill: #174EA6;\n",
              "    }\n",
              "\n",
              "    [theme=dark] .colab-df-convert {\n",
              "      background-color: #3B4455;\n",
              "      fill: #D2E3FC;\n",
              "    }\n",
              "\n",
              "    [theme=dark] .colab-df-convert:hover {\n",
              "      background-color: #434B5C;\n",
              "      box-shadow: 0px 1px 3px 1px rgba(0, 0, 0, 0.15);\n",
              "      filter: drop-shadow(0px 1px 2px rgba(0, 0, 0, 0.3));\n",
              "      fill: #FFFFFF;\n",
              "    }\n",
              "  </style>\n",
              "\n",
              "      <script>\n",
              "        const buttonEl =\n",
              "          document.querySelector('#df-9609c98c-9459-4e2d-a8bd-780bdb50d380 button.colab-df-convert');\n",
              "        buttonEl.style.display =\n",
              "          google.colab.kernel.accessAllowed ? 'block' : 'none';\n",
              "\n",
              "        async function convertToInteractive(key) {\n",
              "          const element = document.querySelector('#df-9609c98c-9459-4e2d-a8bd-780bdb50d380');\n",
              "          const dataTable =\n",
              "            await google.colab.kernel.invokeFunction('convertToInteractive',\n",
              "                                                     [key], {});\n",
              "          if (!dataTable) return;\n",
              "\n",
              "          const docLinkHtml = 'Like what you see? Visit the ' +\n",
              "            '<a target=\"_blank\" href=https://colab.research.google.com/notebooks/data_table.ipynb>data table notebook</a>'\n",
              "            + ' to learn more about interactive tables.';\n",
              "          element.innerHTML = '';\n",
              "          dataTable['output_type'] = 'display_data';\n",
              "          await google.colab.output.renderOutput(dataTable, element);\n",
              "          const docLink = document.createElement('div');\n",
              "          docLink.innerHTML = docLinkHtml;\n",
              "          element.appendChild(docLink);\n",
              "        }\n",
              "      </script>\n",
              "    </div>\n",
              "  </div>\n",
              "  "
            ]
          },
          "metadata": {},
          "execution_count": 4
        }
      ]
    },
    {
      "cell_type": "markdown",
      "id": "1ac8990e",
      "metadata": {
        "id": "1ac8990e"
      },
      "source": [
        "**Step 3: Create a new variable for output.** \n",
        "\n",
        "Create a new variable of your choice that contains the merge function: `pd.merge(df1, df2, on='')`. Merge on the `Account_Num` column."
      ]
    },
    {
      "cell_type": "code",
      "execution_count": null,
      "id": "fbe33c5f",
      "metadata": {
        "id": "fbe33c5f"
      },
      "outputs": [],
      "source": [
        "client_data_3 = pd.merge(client_data_1, client_data_2, on='Account_Num')"
      ]
    },
    {
      "cell_type": "markdown",
      "id": "70bcbaa4",
      "metadata": {
        "id": "70bcbaa4"
      },
      "source": [
        "**Step 4: Print the output.**\n",
        "\n",
        "Use the print function on your output variable to ensure the join was completed. "
      ]
    },
    {
      "cell_type": "code",
      "execution_count": null,
      "id": "4552f1c4",
      "metadata": {
        "id": "4552f1c4",
        "colab": {
          "base_uri": "https://localhost:8080/",
          "height": 49
        },
        "outputId": "7ffb4f3d-882a-40c2-df56-f06201f84480"
      },
      "outputs": [
        {
          "output_type": "execute_result",
          "data": {
            "text/plain": [
              "Empty DataFrame\n",
              "Columns: [Account_Num, First_Name_x, Last_Name_x, Email_x, CC_Num_x, Current_Bal_x, First_Name_y, Last_Name_y, Email_y, CC_Num_y, Current_Bal_y]\n",
              "Index: []"
            ],
            "text/html": [
              "\n",
              "  <div id=\"df-84445e6d-896a-430d-8af6-6e775b8509c4\">\n",
              "    <div class=\"colab-df-container\">\n",
              "      <div>\n",
              "<style scoped>\n",
              "    .dataframe tbody tr th:only-of-type {\n",
              "        vertical-align: middle;\n",
              "    }\n",
              "\n",
              "    .dataframe tbody tr th {\n",
              "        vertical-align: top;\n",
              "    }\n",
              "\n",
              "    .dataframe thead th {\n",
              "        text-align: right;\n",
              "    }\n",
              "</style>\n",
              "<table border=\"1\" class=\"dataframe\">\n",
              "  <thead>\n",
              "    <tr style=\"text-align: right;\">\n",
              "      <th></th>\n",
              "      <th>Account_Num</th>\n",
              "      <th>First_Name_x</th>\n",
              "      <th>Last_Name_x</th>\n",
              "      <th>Email_x</th>\n",
              "      <th>CC_Num_x</th>\n",
              "      <th>Current_Bal_x</th>\n",
              "      <th>First_Name_y</th>\n",
              "      <th>Last_Name_y</th>\n",
              "      <th>Email_y</th>\n",
              "      <th>CC_Num_y</th>\n",
              "      <th>Current_Bal_y</th>\n",
              "    </tr>\n",
              "  </thead>\n",
              "  <tbody>\n",
              "  </tbody>\n",
              "</table>\n",
              "</div>\n",
              "      <button class=\"colab-df-convert\" onclick=\"convertToInteractive('df-84445e6d-896a-430d-8af6-6e775b8509c4')\"\n",
              "              title=\"Convert this dataframe to an interactive table.\"\n",
              "              style=\"display:none;\">\n",
              "        \n",
              "  <svg xmlns=\"http://www.w3.org/2000/svg\" height=\"24px\"viewBox=\"0 0 24 24\"\n",
              "       width=\"24px\">\n",
              "    <path d=\"M0 0h24v24H0V0z\" fill=\"none\"/>\n",
              "    <path d=\"M18.56 5.44l.94 2.06.94-2.06 2.06-.94-2.06-.94-.94-2.06-.94 2.06-2.06.94zm-11 1L8.5 8.5l.94-2.06 2.06-.94-2.06-.94L8.5 2.5l-.94 2.06-2.06.94zm10 10l.94 2.06.94-2.06 2.06-.94-2.06-.94-.94-2.06-.94 2.06-2.06.94z\"/><path d=\"M17.41 7.96l-1.37-1.37c-.4-.4-.92-.59-1.43-.59-.52 0-1.04.2-1.43.59L10.3 9.45l-7.72 7.72c-.78.78-.78 2.05 0 2.83L4 21.41c.39.39.9.59 1.41.59.51 0 1.02-.2 1.41-.59l7.78-7.78 2.81-2.81c.8-.78.8-2.07 0-2.86zM5.41 20L4 18.59l7.72-7.72 1.47 1.35L5.41 20z\"/>\n",
              "  </svg>\n",
              "      </button>\n",
              "      \n",
              "  <style>\n",
              "    .colab-df-container {\n",
              "      display:flex;\n",
              "      flex-wrap:wrap;\n",
              "      gap: 12px;\n",
              "    }\n",
              "\n",
              "    .colab-df-convert {\n",
              "      background-color: #E8F0FE;\n",
              "      border: none;\n",
              "      border-radius: 50%;\n",
              "      cursor: pointer;\n",
              "      display: none;\n",
              "      fill: #1967D2;\n",
              "      height: 32px;\n",
              "      padding: 0 0 0 0;\n",
              "      width: 32px;\n",
              "    }\n",
              "\n",
              "    .colab-df-convert:hover {\n",
              "      background-color: #E2EBFA;\n",
              "      box-shadow: 0px 1px 2px rgba(60, 64, 67, 0.3), 0px 1px 3px 1px rgba(60, 64, 67, 0.15);\n",
              "      fill: #174EA6;\n",
              "    }\n",
              "\n",
              "    [theme=dark] .colab-df-convert {\n",
              "      background-color: #3B4455;\n",
              "      fill: #D2E3FC;\n",
              "    }\n",
              "\n",
              "    [theme=dark] .colab-df-convert:hover {\n",
              "      background-color: #434B5C;\n",
              "      box-shadow: 0px 1px 3px 1px rgba(0, 0, 0, 0.15);\n",
              "      filter: drop-shadow(0px 1px 2px rgba(0, 0, 0, 0.3));\n",
              "      fill: #FFFFFF;\n",
              "    }\n",
              "  </style>\n",
              "\n",
              "      <script>\n",
              "        const buttonEl =\n",
              "          document.querySelector('#df-84445e6d-896a-430d-8af6-6e775b8509c4 button.colab-df-convert');\n",
              "        buttonEl.style.display =\n",
              "          google.colab.kernel.accessAllowed ? 'block' : 'none';\n",
              "\n",
              "        async function convertToInteractive(key) {\n",
              "          const element = document.querySelector('#df-84445e6d-896a-430d-8af6-6e775b8509c4');\n",
              "          const dataTable =\n",
              "            await google.colab.kernel.invokeFunction('convertToInteractive',\n",
              "                                                     [key], {});\n",
              "          if (!dataTable) return;\n",
              "\n",
              "          const docLinkHtml = 'Like what you see? Visit the ' +\n",
              "            '<a target=\"_blank\" href=https://colab.research.google.com/notebooks/data_table.ipynb>data table notebook</a>'\n",
              "            + ' to learn more about interactive tables.';\n",
              "          element.innerHTML = '';\n",
              "          dataTable['output_type'] = 'display_data';\n",
              "          await google.colab.output.renderOutput(dataTable, element);\n",
              "          const docLink = document.createElement('div');\n",
              "          docLink.innerHTML = docLinkHtml;\n",
              "          element.appendChild(docLink);\n",
              "        }\n",
              "      </script>\n",
              "    </div>\n",
              "  </div>\n",
              "  "
            ]
          },
          "metadata": {},
          "execution_count": 7
        }
      ],
      "source": [
        "client_data_3.head()"
      ]
    },
    {
      "cell_type": "markdown",
      "id": "8c2a4c04",
      "metadata": {
        "id": "8c2a4c04"
      },
      "source": [
        "**Question 1:** What is the output and why did it happen?"
      ]
    },
    {
      "cell_type": "markdown",
      "metadata": {
        "id": "hR5-WfgcS4ct"
      },
      "source": [
        "**Answer:** *Your answer here*"
      ],
      "id": "hR5-WfgcS4ct"
    },
    {
      "cell_type": "markdown",
      "id": "63cb2ce0",
      "metadata": {
        "id": "63cb2ce0"
      },
      "source": [
        "**Step 5: Create an inner join.**\n",
        "\n",
        "Re-write your merge statement to include `pd.merge(df1, df2, on='', how='inner')`. Print the output again."
      ]
    },
    {
      "cell_type": "code",
      "execution_count": null,
      "id": "5073ae3a",
      "metadata": {
        "id": "5073ae3a"
      },
      "outputs": [],
      "source": [
        "client_data_3 = pd.merge(client_data_1, client_data_2, on='Account_Num', how='inner')"
      ]
    },
    {
      "cell_type": "code",
      "source": [
        "client_data_3.head()"
      ],
      "metadata": {
        "colab": {
          "base_uri": "https://localhost:8080/",
          "height": 49
        },
        "id": "j6JBJsDn5SQv",
        "outputId": "83a7d6d4-cc45-4ea0-a887-13501804a3ff"
      },
      "id": "j6JBJsDn5SQv",
      "execution_count": null,
      "outputs": [
        {
          "output_type": "execute_result",
          "data": {
            "text/plain": [
              "Empty DataFrame\n",
              "Columns: [Account_Num, First_Name_x, Last_Name_x, Email_x, CC_Num_x, Current_Bal_x, First_Name_y, Last_Name_y, Email_y, CC_Num_y, Current_Bal_y]\n",
              "Index: []"
            ],
            "text/html": [
              "\n",
              "  <div id=\"df-efe15811-7ae9-4aa2-ab2b-280ca1792cee\">\n",
              "    <div class=\"colab-df-container\">\n",
              "      <div>\n",
              "<style scoped>\n",
              "    .dataframe tbody tr th:only-of-type {\n",
              "        vertical-align: middle;\n",
              "    }\n",
              "\n",
              "    .dataframe tbody tr th {\n",
              "        vertical-align: top;\n",
              "    }\n",
              "\n",
              "    .dataframe thead th {\n",
              "        text-align: right;\n",
              "    }\n",
              "</style>\n",
              "<table border=\"1\" class=\"dataframe\">\n",
              "  <thead>\n",
              "    <tr style=\"text-align: right;\">\n",
              "      <th></th>\n",
              "      <th>Account_Num</th>\n",
              "      <th>First_Name_x</th>\n",
              "      <th>Last_Name_x</th>\n",
              "      <th>Email_x</th>\n",
              "      <th>CC_Num_x</th>\n",
              "      <th>Current_Bal_x</th>\n",
              "      <th>First_Name_y</th>\n",
              "      <th>Last_Name_y</th>\n",
              "      <th>Email_y</th>\n",
              "      <th>CC_Num_y</th>\n",
              "      <th>Current_Bal_y</th>\n",
              "    </tr>\n",
              "  </thead>\n",
              "  <tbody>\n",
              "  </tbody>\n",
              "</table>\n",
              "</div>\n",
              "      <button class=\"colab-df-convert\" onclick=\"convertToInteractive('df-efe15811-7ae9-4aa2-ab2b-280ca1792cee')\"\n",
              "              title=\"Convert this dataframe to an interactive table.\"\n",
              "              style=\"display:none;\">\n",
              "        \n",
              "  <svg xmlns=\"http://www.w3.org/2000/svg\" height=\"24px\"viewBox=\"0 0 24 24\"\n",
              "       width=\"24px\">\n",
              "    <path d=\"M0 0h24v24H0V0z\" fill=\"none\"/>\n",
              "    <path d=\"M18.56 5.44l.94 2.06.94-2.06 2.06-.94-2.06-.94-.94-2.06-.94 2.06-2.06.94zm-11 1L8.5 8.5l.94-2.06 2.06-.94-2.06-.94L8.5 2.5l-.94 2.06-2.06.94zm10 10l.94 2.06.94-2.06 2.06-.94-2.06-.94-.94-2.06-.94 2.06-2.06.94z\"/><path d=\"M17.41 7.96l-1.37-1.37c-.4-.4-.92-.59-1.43-.59-.52 0-1.04.2-1.43.59L10.3 9.45l-7.72 7.72c-.78.78-.78 2.05 0 2.83L4 21.41c.39.39.9.59 1.41.59.51 0 1.02-.2 1.41-.59l7.78-7.78 2.81-2.81c.8-.78.8-2.07 0-2.86zM5.41 20L4 18.59l7.72-7.72 1.47 1.35L5.41 20z\"/>\n",
              "  </svg>\n",
              "      </button>\n",
              "      \n",
              "  <style>\n",
              "    .colab-df-container {\n",
              "      display:flex;\n",
              "      flex-wrap:wrap;\n",
              "      gap: 12px;\n",
              "    }\n",
              "\n",
              "    .colab-df-convert {\n",
              "      background-color: #E8F0FE;\n",
              "      border: none;\n",
              "      border-radius: 50%;\n",
              "      cursor: pointer;\n",
              "      display: none;\n",
              "      fill: #1967D2;\n",
              "      height: 32px;\n",
              "      padding: 0 0 0 0;\n",
              "      width: 32px;\n",
              "    }\n",
              "\n",
              "    .colab-df-convert:hover {\n",
              "      background-color: #E2EBFA;\n",
              "      box-shadow: 0px 1px 2px rgba(60, 64, 67, 0.3), 0px 1px 3px 1px rgba(60, 64, 67, 0.15);\n",
              "      fill: #174EA6;\n",
              "    }\n",
              "\n",
              "    [theme=dark] .colab-df-convert {\n",
              "      background-color: #3B4455;\n",
              "      fill: #D2E3FC;\n",
              "    }\n",
              "\n",
              "    [theme=dark] .colab-df-convert:hover {\n",
              "      background-color: #434B5C;\n",
              "      box-shadow: 0px 1px 3px 1px rgba(0, 0, 0, 0.15);\n",
              "      filter: drop-shadow(0px 1px 2px rgba(0, 0, 0, 0.3));\n",
              "      fill: #FFFFFF;\n",
              "    }\n",
              "  </style>\n",
              "\n",
              "      <script>\n",
              "        const buttonEl =\n",
              "          document.querySelector('#df-efe15811-7ae9-4aa2-ab2b-280ca1792cee button.colab-df-convert');\n",
              "        buttonEl.style.display =\n",
              "          google.colab.kernel.accessAllowed ? 'block' : 'none';\n",
              "\n",
              "        async function convertToInteractive(key) {\n",
              "          const element = document.querySelector('#df-efe15811-7ae9-4aa2-ab2b-280ca1792cee');\n",
              "          const dataTable =\n",
              "            await google.colab.kernel.invokeFunction('convertToInteractive',\n",
              "                                                     [key], {});\n",
              "          if (!dataTable) return;\n",
              "\n",
              "          const docLinkHtml = 'Like what you see? Visit the ' +\n",
              "            '<a target=\"_blank\" href=https://colab.research.google.com/notebooks/data_table.ipynb>data table notebook</a>'\n",
              "            + ' to learn more about interactive tables.';\n",
              "          element.innerHTML = '';\n",
              "          dataTable['output_type'] = 'display_data';\n",
              "          await google.colab.output.renderOutput(dataTable, element);\n",
              "          const docLink = document.createElement('div');\n",
              "          docLink.innerHTML = docLinkHtml;\n",
              "          element.appendChild(docLink);\n",
              "        }\n",
              "      </script>\n",
              "    </div>\n",
              "  </div>\n",
              "  "
            ]
          },
          "metadata": {},
          "execution_count": 9
        }
      ]
    },
    {
      "cell_type": "markdown",
      "id": "41812902",
      "metadata": {
        "id": "41812902"
      },
      "source": [
        "**Question 2:** Is this the same or different from the output created in step 4?"
      ]
    },
    {
      "cell_type": "markdown",
      "metadata": {
        "id": "JeRVeXYKuKPo"
      },
      "source": [
        "**Answer:** *Your answer here*"
      ],
      "id": "JeRVeXYKuKPo"
    },
    {
      "cell_type": "markdown",
      "id": "11b622ac",
      "metadata": {
        "id": "11b622ac"
      },
      "source": [
        "*The default type of join for `pd.merge()` is an inner join. If you don't specify a type of join, Pandas will assume you meant an inner join.*"
      ]
    },
    {
      "cell_type": "markdown",
      "id": "4b68ff38",
      "metadata": {
        "id": "4b68ff38"
      },
      "source": [
        "**Step 6: Create a left outer join.** \n",
        "\n",
        "Re-write your merge statement to include `how='left'`. Print the output again. \n",
        "\n",
        "**Question 3:** What output do you expect?"
      ]
    },
    {
      "cell_type": "markdown",
      "metadata": {
        "id": "ospFfkcsuUhI"
      },
      "source": [
        "**Answer:** *Your answer here*"
      ],
      "id": "ospFfkcsuUhI"
    },
    {
      "cell_type": "code",
      "execution_count": null,
      "id": "e1b4b01f",
      "metadata": {
        "id": "e1b4b01f"
      },
      "outputs": [],
      "source": [
        "client_data_3 = pd.merge(client_data_1, client_data_2, on='Account_Num', how='right')"
      ]
    },
    {
      "cell_type": "code",
      "source": [
        "client_data_3.head()"
      ],
      "metadata": {
        "colab": {
          "base_uri": "https://localhost:8080/",
          "height": 270
        },
        "id": "9L0AKzhN59cE",
        "outputId": "f303599d-0779-46fe-b7a3-8ad9e1907234"
      },
      "id": "9L0AKzhN59cE",
      "execution_count": null,
      "outputs": [
        {
          "output_type": "execute_result",
          "data": {
            "text/plain": [
              "   Account_Num First_Name_x Last_Name_x Email_x  CC_Num_x Current_Bal_x  \\\n",
              "0  88-067-8282          NaN         NaN     NaN       NaN           NaN   \n",
              "1  87-164-1431          NaN         NaN     NaN       NaN           NaN   \n",
              "2  45-727-7483          NaN         NaN     NaN       NaN           NaN   \n",
              "3  35-250-7814          NaN         NaN     NaN       NaN           NaN   \n",
              "4  32-197-8907          NaN         NaN     NaN       NaN           NaN   \n",
              "\n",
              "  First_Name_y Last_Name_y                         Email_y      CC_Num_y  \\\n",
              "0         Alvy      Benech            abenechgg@unicef.org  3.540000e+15   \n",
              "1        Adler      Ferney  aferneygh@networksolutions.com  3.560000e+15   \n",
              "2        Colet   Bartaloni            cbartalonigi@ted.com  5.610000e+16   \n",
              "3       Jennie      Leddie             jleddiegj@wufoo.com  3.530000e+15   \n",
              "4    Alexandro    Blanning          ablanninggk@toplist.cz  4.900000e+15   \n",
              "\n",
              "  Current_Bal_y  \n",
              "0        $4.97B  \n",
              "1       $96.78M  \n",
              "2       $68.78M  \n",
              "3      $404.02M  \n",
              "4      $710.31M  "
            ],
            "text/html": [
              "\n",
              "  <div id=\"df-bcb52365-f996-42df-8b8e-cdb1d0f28f71\">\n",
              "    <div class=\"colab-df-container\">\n",
              "      <div>\n",
              "<style scoped>\n",
              "    .dataframe tbody tr th:only-of-type {\n",
              "        vertical-align: middle;\n",
              "    }\n",
              "\n",
              "    .dataframe tbody tr th {\n",
              "        vertical-align: top;\n",
              "    }\n",
              "\n",
              "    .dataframe thead th {\n",
              "        text-align: right;\n",
              "    }\n",
              "</style>\n",
              "<table border=\"1\" class=\"dataframe\">\n",
              "  <thead>\n",
              "    <tr style=\"text-align: right;\">\n",
              "      <th></th>\n",
              "      <th>Account_Num</th>\n",
              "      <th>First_Name_x</th>\n",
              "      <th>Last_Name_x</th>\n",
              "      <th>Email_x</th>\n",
              "      <th>CC_Num_x</th>\n",
              "      <th>Current_Bal_x</th>\n",
              "      <th>First_Name_y</th>\n",
              "      <th>Last_Name_y</th>\n",
              "      <th>Email_y</th>\n",
              "      <th>CC_Num_y</th>\n",
              "      <th>Current_Bal_y</th>\n",
              "    </tr>\n",
              "  </thead>\n",
              "  <tbody>\n",
              "    <tr>\n",
              "      <th>0</th>\n",
              "      <td>88-067-8282</td>\n",
              "      <td>NaN</td>\n",
              "      <td>NaN</td>\n",
              "      <td>NaN</td>\n",
              "      <td>NaN</td>\n",
              "      <td>NaN</td>\n",
              "      <td>Alvy</td>\n",
              "      <td>Benech</td>\n",
              "      <td>abenechgg@unicef.org</td>\n",
              "      <td>3.540000e+15</td>\n",
              "      <td>$4.97B</td>\n",
              "    </tr>\n",
              "    <tr>\n",
              "      <th>1</th>\n",
              "      <td>87-164-1431</td>\n",
              "      <td>NaN</td>\n",
              "      <td>NaN</td>\n",
              "      <td>NaN</td>\n",
              "      <td>NaN</td>\n",
              "      <td>NaN</td>\n",
              "      <td>Adler</td>\n",
              "      <td>Ferney</td>\n",
              "      <td>aferneygh@networksolutions.com</td>\n",
              "      <td>3.560000e+15</td>\n",
              "      <td>$96.78M</td>\n",
              "    </tr>\n",
              "    <tr>\n",
              "      <th>2</th>\n",
              "      <td>45-727-7483</td>\n",
              "      <td>NaN</td>\n",
              "      <td>NaN</td>\n",
              "      <td>NaN</td>\n",
              "      <td>NaN</td>\n",
              "      <td>NaN</td>\n",
              "      <td>Colet</td>\n",
              "      <td>Bartaloni</td>\n",
              "      <td>cbartalonigi@ted.com</td>\n",
              "      <td>5.610000e+16</td>\n",
              "      <td>$68.78M</td>\n",
              "    </tr>\n",
              "    <tr>\n",
              "      <th>3</th>\n",
              "      <td>35-250-7814</td>\n",
              "      <td>NaN</td>\n",
              "      <td>NaN</td>\n",
              "      <td>NaN</td>\n",
              "      <td>NaN</td>\n",
              "      <td>NaN</td>\n",
              "      <td>Jennie</td>\n",
              "      <td>Leddie</td>\n",
              "      <td>jleddiegj@wufoo.com</td>\n",
              "      <td>3.530000e+15</td>\n",
              "      <td>$404.02M</td>\n",
              "    </tr>\n",
              "    <tr>\n",
              "      <th>4</th>\n",
              "      <td>32-197-8907</td>\n",
              "      <td>NaN</td>\n",
              "      <td>NaN</td>\n",
              "      <td>NaN</td>\n",
              "      <td>NaN</td>\n",
              "      <td>NaN</td>\n",
              "      <td>Alexandro</td>\n",
              "      <td>Blanning</td>\n",
              "      <td>ablanninggk@toplist.cz</td>\n",
              "      <td>4.900000e+15</td>\n",
              "      <td>$710.31M</td>\n",
              "    </tr>\n",
              "  </tbody>\n",
              "</table>\n",
              "</div>\n",
              "      <button class=\"colab-df-convert\" onclick=\"convertToInteractive('df-bcb52365-f996-42df-8b8e-cdb1d0f28f71')\"\n",
              "              title=\"Convert this dataframe to an interactive table.\"\n",
              "              style=\"display:none;\">\n",
              "        \n",
              "  <svg xmlns=\"http://www.w3.org/2000/svg\" height=\"24px\"viewBox=\"0 0 24 24\"\n",
              "       width=\"24px\">\n",
              "    <path d=\"M0 0h24v24H0V0z\" fill=\"none\"/>\n",
              "    <path d=\"M18.56 5.44l.94 2.06.94-2.06 2.06-.94-2.06-.94-.94-2.06-.94 2.06-2.06.94zm-11 1L8.5 8.5l.94-2.06 2.06-.94-2.06-.94L8.5 2.5l-.94 2.06-2.06.94zm10 10l.94 2.06.94-2.06 2.06-.94-2.06-.94-.94-2.06-.94 2.06-2.06.94z\"/><path d=\"M17.41 7.96l-1.37-1.37c-.4-.4-.92-.59-1.43-.59-.52 0-1.04.2-1.43.59L10.3 9.45l-7.72 7.72c-.78.78-.78 2.05 0 2.83L4 21.41c.39.39.9.59 1.41.59.51 0 1.02-.2 1.41-.59l7.78-7.78 2.81-2.81c.8-.78.8-2.07 0-2.86zM5.41 20L4 18.59l7.72-7.72 1.47 1.35L5.41 20z\"/>\n",
              "  </svg>\n",
              "      </button>\n",
              "      \n",
              "  <style>\n",
              "    .colab-df-container {\n",
              "      display:flex;\n",
              "      flex-wrap:wrap;\n",
              "      gap: 12px;\n",
              "    }\n",
              "\n",
              "    .colab-df-convert {\n",
              "      background-color: #E8F0FE;\n",
              "      border: none;\n",
              "      border-radius: 50%;\n",
              "      cursor: pointer;\n",
              "      display: none;\n",
              "      fill: #1967D2;\n",
              "      height: 32px;\n",
              "      padding: 0 0 0 0;\n",
              "      width: 32px;\n",
              "    }\n",
              "\n",
              "    .colab-df-convert:hover {\n",
              "      background-color: #E2EBFA;\n",
              "      box-shadow: 0px 1px 2px rgba(60, 64, 67, 0.3), 0px 1px 3px 1px rgba(60, 64, 67, 0.15);\n",
              "      fill: #174EA6;\n",
              "    }\n",
              "\n",
              "    [theme=dark] .colab-df-convert {\n",
              "      background-color: #3B4455;\n",
              "      fill: #D2E3FC;\n",
              "    }\n",
              "\n",
              "    [theme=dark] .colab-df-convert:hover {\n",
              "      background-color: #434B5C;\n",
              "      box-shadow: 0px 1px 3px 1px rgba(0, 0, 0, 0.15);\n",
              "      filter: drop-shadow(0px 1px 2px rgba(0, 0, 0, 0.3));\n",
              "      fill: #FFFFFF;\n",
              "    }\n",
              "  </style>\n",
              "\n",
              "      <script>\n",
              "        const buttonEl =\n",
              "          document.querySelector('#df-bcb52365-f996-42df-8b8e-cdb1d0f28f71 button.colab-df-convert');\n",
              "        buttonEl.style.display =\n",
              "          google.colab.kernel.accessAllowed ? 'block' : 'none';\n",
              "\n",
              "        async function convertToInteractive(key) {\n",
              "          const element = document.querySelector('#df-bcb52365-f996-42df-8b8e-cdb1d0f28f71');\n",
              "          const dataTable =\n",
              "            await google.colab.kernel.invokeFunction('convertToInteractive',\n",
              "                                                     [key], {});\n",
              "          if (!dataTable) return;\n",
              "\n",
              "          const docLinkHtml = 'Like what you see? Visit the ' +\n",
              "            '<a target=\"_blank\" href=https://colab.research.google.com/notebooks/data_table.ipynb>data table notebook</a>'\n",
              "            + ' to learn more about interactive tables.';\n",
              "          element.innerHTML = '';\n",
              "          dataTable['output_type'] = 'display_data';\n",
              "          await google.colab.output.renderOutput(dataTable, element);\n",
              "          const docLink = document.createElement('div');\n",
              "          docLink.innerHTML = docLinkHtml;\n",
              "          element.appendChild(docLink);\n",
              "        }\n",
              "      </script>\n",
              "    </div>\n",
              "  </div>\n",
              "  "
            ]
          },
          "metadata": {},
          "execution_count": 17
        }
      ]
    },
    {
      "cell_type": "code",
      "source": [
        "client_data_3.shape"
      ],
      "metadata": {
        "colab": {
          "base_uri": "https://localhost:8080/"
        },
        "id": "z-6VTP4R6EgH",
        "outputId": "13f551ae-66d3-4dc1-b60c-d6f6cd9f520e"
      },
      "id": "z-6VTP4R6EgH",
      "execution_count": null,
      "outputs": [
        {
          "output_type": "execute_result",
          "data": {
            "text/plain": [
              "(356, 11)"
            ]
          },
          "metadata": {},
          "execution_count": 18
        }
      ]
    },
    {
      "cell_type": "markdown",
      "id": "a94ae133",
      "metadata": {
        "id": "a94ae133"
      },
      "source": [
        "**Question 4:** Why are there NaN values here?"
      ]
    },
    {
      "cell_type": "markdown",
      "metadata": {
        "id": "KNz72wm8udMk"
      },
      "source": [
        "**Answer:** *Your answer here*"
      ],
      "id": "KNz72wm8udMk"
    },
    {
      "cell_type": "markdown",
      "id": "f1f43e0d",
      "metadata": {
        "id": "f1f43e0d"
      },
      "source": [
        "**Step 7: Create a full outer join.**\n",
        "\n",
        "Re-write your merge statement to include `how='outer'`. Print the output again."
      ]
    },
    {
      "cell_type": "code",
      "execution_count": null,
      "id": "1422bd4f",
      "metadata": {
        "id": "1422bd4f"
      },
      "outputs": [],
      "source": [
        "client_data_3 = pd.merge(client_data_1, client_data_2, on='Account_Num', how='outer')"
      ]
    },
    {
      "cell_type": "markdown",
      "id": "e71907bd",
      "metadata": {
        "id": "e71907bd"
      },
      "source": [
        "**Question 5:** Which join produces a file that shows us the client information we need to know?"
      ]
    },
    {
      "cell_type": "code",
      "source": [
        "client_data_3.shape"
      ],
      "metadata": {
        "colab": {
          "base_uri": "https://localhost:8080/"
        },
        "id": "aWxflnQT67QI",
        "outputId": "10657b52-6736-4b24-ec07-067b2f28ec87"
      },
      "id": "aWxflnQT67QI",
      "execution_count": null,
      "outputs": [
        {
          "output_type": "execute_result",
          "data": {
            "text/plain": [
              "(775, 11)"
            ]
          },
          "metadata": {},
          "execution_count": 20
        }
      ]
    },
    {
      "cell_type": "code",
      "source": [
        "client_data_3.tail()"
      ],
      "metadata": {
        "colab": {
          "base_uri": "https://localhost:8080/",
          "height": 270
        },
        "id": "q9_ZdEpg7FZF",
        "outputId": "08bbb400-ea40-41dc-9acd-990d6f3cc381"
      },
      "id": "q9_ZdEpg7FZF",
      "execution_count": null,
      "outputs": [
        {
          "output_type": "execute_result",
          "data": {
            "text/plain": [
              "     Account_Num First_Name_x Last_Name_x Email_x  CC_Num_x Current_Bal_x  \\\n",
              "770  56-195-8939          NaN         NaN     NaN       NaN           NaN   \n",
              "771  43-901-0427          NaN         NaN     NaN       NaN           NaN   \n",
              "772  09-314-1492          NaN         NaN     NaN       NaN           NaN   \n",
              "773  43-216-7462          NaN         NaN     NaN       NaN           NaN   \n",
              "774  49-914-6463          NaN         NaN     NaN       NaN           NaN   \n",
              "\n",
              "    First_Name_y Last_Name_y                     Email_y      CC_Num_y  \\\n",
              "770   Anthiathia     Compton         acomptonrm@digg.com  6.380000e+15   \n",
              "771          Ros   Caldayrou     rcaldayrouro@apache.org  3.740000e+14   \n",
              "772      Janetta   Mc Gorley  jmcgorleyrp@purevolume.com  3.550000e+15   \n",
              "773       Leshia         Bow            lbowrq@youku.com  3.570000e+15   \n",
              "774         Alex       Bocke          abockerr@phpbb.com  3.750000e+14   \n",
              "\n",
              "    Current_Bal_y  \n",
              "770       $26.26M  \n",
              "771       $111.6M  \n",
              "772       $526.1M  \n",
              "773        $1.29B  \n",
              "774      $610.36M  "
            ],
            "text/html": [
              "\n",
              "  <div id=\"df-6c10684d-f1dc-4833-be90-8e9e21f5f9f7\">\n",
              "    <div class=\"colab-df-container\">\n",
              "      <div>\n",
              "<style scoped>\n",
              "    .dataframe tbody tr th:only-of-type {\n",
              "        vertical-align: middle;\n",
              "    }\n",
              "\n",
              "    .dataframe tbody tr th {\n",
              "        vertical-align: top;\n",
              "    }\n",
              "\n",
              "    .dataframe thead th {\n",
              "        text-align: right;\n",
              "    }\n",
              "</style>\n",
              "<table border=\"1\" class=\"dataframe\">\n",
              "  <thead>\n",
              "    <tr style=\"text-align: right;\">\n",
              "      <th></th>\n",
              "      <th>Account_Num</th>\n",
              "      <th>First_Name_x</th>\n",
              "      <th>Last_Name_x</th>\n",
              "      <th>Email_x</th>\n",
              "      <th>CC_Num_x</th>\n",
              "      <th>Current_Bal_x</th>\n",
              "      <th>First_Name_y</th>\n",
              "      <th>Last_Name_y</th>\n",
              "      <th>Email_y</th>\n",
              "      <th>CC_Num_y</th>\n",
              "      <th>Current_Bal_y</th>\n",
              "    </tr>\n",
              "  </thead>\n",
              "  <tbody>\n",
              "    <tr>\n",
              "      <th>770</th>\n",
              "      <td>56-195-8939</td>\n",
              "      <td>NaN</td>\n",
              "      <td>NaN</td>\n",
              "      <td>NaN</td>\n",
              "      <td>NaN</td>\n",
              "      <td>NaN</td>\n",
              "      <td>Anthiathia</td>\n",
              "      <td>Compton</td>\n",
              "      <td>acomptonrm@digg.com</td>\n",
              "      <td>6.380000e+15</td>\n",
              "      <td>$26.26M</td>\n",
              "    </tr>\n",
              "    <tr>\n",
              "      <th>771</th>\n",
              "      <td>43-901-0427</td>\n",
              "      <td>NaN</td>\n",
              "      <td>NaN</td>\n",
              "      <td>NaN</td>\n",
              "      <td>NaN</td>\n",
              "      <td>NaN</td>\n",
              "      <td>Ros</td>\n",
              "      <td>Caldayrou</td>\n",
              "      <td>rcaldayrouro@apache.org</td>\n",
              "      <td>3.740000e+14</td>\n",
              "      <td>$111.6M</td>\n",
              "    </tr>\n",
              "    <tr>\n",
              "      <th>772</th>\n",
              "      <td>09-314-1492</td>\n",
              "      <td>NaN</td>\n",
              "      <td>NaN</td>\n",
              "      <td>NaN</td>\n",
              "      <td>NaN</td>\n",
              "      <td>NaN</td>\n",
              "      <td>Janetta</td>\n",
              "      <td>Mc Gorley</td>\n",
              "      <td>jmcgorleyrp@purevolume.com</td>\n",
              "      <td>3.550000e+15</td>\n",
              "      <td>$526.1M</td>\n",
              "    </tr>\n",
              "    <tr>\n",
              "      <th>773</th>\n",
              "      <td>43-216-7462</td>\n",
              "      <td>NaN</td>\n",
              "      <td>NaN</td>\n",
              "      <td>NaN</td>\n",
              "      <td>NaN</td>\n",
              "      <td>NaN</td>\n",
              "      <td>Leshia</td>\n",
              "      <td>Bow</td>\n",
              "      <td>lbowrq@youku.com</td>\n",
              "      <td>3.570000e+15</td>\n",
              "      <td>$1.29B</td>\n",
              "    </tr>\n",
              "    <tr>\n",
              "      <th>774</th>\n",
              "      <td>49-914-6463</td>\n",
              "      <td>NaN</td>\n",
              "      <td>NaN</td>\n",
              "      <td>NaN</td>\n",
              "      <td>NaN</td>\n",
              "      <td>NaN</td>\n",
              "      <td>Alex</td>\n",
              "      <td>Bocke</td>\n",
              "      <td>abockerr@phpbb.com</td>\n",
              "      <td>3.750000e+14</td>\n",
              "      <td>$610.36M</td>\n",
              "    </tr>\n",
              "  </tbody>\n",
              "</table>\n",
              "</div>\n",
              "      <button class=\"colab-df-convert\" onclick=\"convertToInteractive('df-6c10684d-f1dc-4833-be90-8e9e21f5f9f7')\"\n",
              "              title=\"Convert this dataframe to an interactive table.\"\n",
              "              style=\"display:none;\">\n",
              "        \n",
              "  <svg xmlns=\"http://www.w3.org/2000/svg\" height=\"24px\"viewBox=\"0 0 24 24\"\n",
              "       width=\"24px\">\n",
              "    <path d=\"M0 0h24v24H0V0z\" fill=\"none\"/>\n",
              "    <path d=\"M18.56 5.44l.94 2.06.94-2.06 2.06-.94-2.06-.94-.94-2.06-.94 2.06-2.06.94zm-11 1L8.5 8.5l.94-2.06 2.06-.94-2.06-.94L8.5 2.5l-.94 2.06-2.06.94zm10 10l.94 2.06.94-2.06 2.06-.94-2.06-.94-.94-2.06-.94 2.06-2.06.94z\"/><path d=\"M17.41 7.96l-1.37-1.37c-.4-.4-.92-.59-1.43-.59-.52 0-1.04.2-1.43.59L10.3 9.45l-7.72 7.72c-.78.78-.78 2.05 0 2.83L4 21.41c.39.39.9.59 1.41.59.51 0 1.02-.2 1.41-.59l7.78-7.78 2.81-2.81c.8-.78.8-2.07 0-2.86zM5.41 20L4 18.59l7.72-7.72 1.47 1.35L5.41 20z\"/>\n",
              "  </svg>\n",
              "      </button>\n",
              "      \n",
              "  <style>\n",
              "    .colab-df-container {\n",
              "      display:flex;\n",
              "      flex-wrap:wrap;\n",
              "      gap: 12px;\n",
              "    }\n",
              "\n",
              "    .colab-df-convert {\n",
              "      background-color: #E8F0FE;\n",
              "      border: none;\n",
              "      border-radius: 50%;\n",
              "      cursor: pointer;\n",
              "      display: none;\n",
              "      fill: #1967D2;\n",
              "      height: 32px;\n",
              "      padding: 0 0 0 0;\n",
              "      width: 32px;\n",
              "    }\n",
              "\n",
              "    .colab-df-convert:hover {\n",
              "      background-color: #E2EBFA;\n",
              "      box-shadow: 0px 1px 2px rgba(60, 64, 67, 0.3), 0px 1px 3px 1px rgba(60, 64, 67, 0.15);\n",
              "      fill: #174EA6;\n",
              "    }\n",
              "\n",
              "    [theme=dark] .colab-df-convert {\n",
              "      background-color: #3B4455;\n",
              "      fill: #D2E3FC;\n",
              "    }\n",
              "\n",
              "    [theme=dark] .colab-df-convert:hover {\n",
              "      background-color: #434B5C;\n",
              "      box-shadow: 0px 1px 3px 1px rgba(0, 0, 0, 0.15);\n",
              "      filter: drop-shadow(0px 1px 2px rgba(0, 0, 0, 0.3));\n",
              "      fill: #FFFFFF;\n",
              "    }\n",
              "  </style>\n",
              "\n",
              "      <script>\n",
              "        const buttonEl =\n",
              "          document.querySelector('#df-6c10684d-f1dc-4833-be90-8e9e21f5f9f7 button.colab-df-convert');\n",
              "        buttonEl.style.display =\n",
              "          google.colab.kernel.accessAllowed ? 'block' : 'none';\n",
              "\n",
              "        async function convertToInteractive(key) {\n",
              "          const element = document.querySelector('#df-6c10684d-f1dc-4833-be90-8e9e21f5f9f7');\n",
              "          const dataTable =\n",
              "            await google.colab.kernel.invokeFunction('convertToInteractive',\n",
              "                                                     [key], {});\n",
              "          if (!dataTable) return;\n",
              "\n",
              "          const docLinkHtml = 'Like what you see? Visit the ' +\n",
              "            '<a target=\"_blank\" href=https://colab.research.google.com/notebooks/data_table.ipynb>data table notebook</a>'\n",
              "            + ' to learn more about interactive tables.';\n",
              "          element.innerHTML = '';\n",
              "          dataTable['output_type'] = 'display_data';\n",
              "          await google.colab.output.renderOutput(dataTable, element);\n",
              "          const docLink = document.createElement('div');\n",
              "          docLink.innerHTML = docLinkHtml;\n",
              "          element.appendChild(docLink);\n",
              "        }\n",
              "      </script>\n",
              "    </div>\n",
              "  </div>\n",
              "  "
            ]
          },
          "metadata": {},
          "execution_count": 22
        }
      ]
    },
    {
      "cell_type": "markdown",
      "metadata": {
        "id": "AWnfXd5HuhfA"
      },
      "source": [
        "**Answer:** *Your answer here*"
      ],
      "id": "AWnfXd5HuhfA"
    },
    {
      "cell_type": "markdown",
      "id": "5be3203f",
      "metadata": {
        "id": "5be3203f"
      },
      "source": [
        "# Independent Activity: Creating a For Loop\n",
        "\n",
        "Work through this next activity to create a `for` loop that will automatically merge files to create a new file. "
      ]
    },
    {
      "cell_type": "markdown",
      "id": "79fd38a6",
      "metadata": {
        "id": "79fd38a6"
      },
      "source": [
        "**Step 1: Import CSV.**\n",
        "\n",
        "You will need to import CSV to be able to work with these types of files. "
      ]
    },
    {
      "cell_type": "code",
      "execution_count": null,
      "id": "1e6cc538",
      "metadata": {
        "id": "1e6cc538"
      },
      "outputs": [],
      "source": [
        "import csv"
      ]
    },
    {
      "cell_type": "markdown",
      "id": "c4f85f9b",
      "metadata": {
        "id": "c4f85f9b"
      },
      "source": [
        "**Step 2: Set up the first statement to declare the output file.**\n",
        "\n",
        "To do this, you will start `with open() as output-file-variable-name` "
      ]
    },
    {
      "cell_type": "code",
      "execution_count": null,
      "id": "de3cc217",
      "metadata": {
        "id": "de3cc217"
      },
      "outputs": [],
      "source": [
        "with open(\"ClientData_1.csv\") as f: # insert a variable name here"
      ]
    },
    {
      "cell_type": "markdown",
      "id": "fc313d96",
      "metadata": {
        "id": "fc313d96"
      },
      "source": [
        "**Step 3: Create a nested 'with' statement for the first file.**\n",
        "\n",
        "The next step is to create a nested `with` statement to open the first file. We will need to read in each line in the file. Fill in the below statement to understand how the open statement is created. "
      ]
    },
    {
      "cell_type": "code",
      "execution_count": null,
      "id": "e6c0f078",
      "metadata": {
        "id": "e6c0f078"
      },
      "outputs": [],
      "source": [
        "# Insert the name of the first file in parentheses\n",
        "with open(\"ClientData_1.csv\") as f: \n",
        "  Lines = f.readlines()# replace the ... with a variable name or letter\n",
        "  for Lines in f:\n",
        "            f.write(line) # replace with variable from step 2"
      ]
    },
    {
      "cell_type": "markdown",
      "id": "d4260705",
      "metadata": {
        "id": "d4260705"
      },
      "source": [
        "`for line in` is a `for` statement that will read each line in the document to write to the new file. \n"
      ]
    },
    {
      "cell_type": "markdown",
      "source": [
        "**Step 4: Write a nested 'with' statement for the second file.** \n",
        "\n",
        "This time, you will write the nested statement completely on your own. The only thing that should change is the file name, as you will be using ***ClientData_2.csv*** instead of ***ClientData_1.csv***."
      ],
      "metadata": {
        "id": "rTOEC6GC3GWe"
      },
      "id": "rTOEC6GC3GWe"
    },
    {
      "cell_type": "code",
      "execution_count": null,
      "id": "7f25e614",
      "metadata": {
        "id": "7f25e614"
      },
      "outputs": [],
      "source": [
        "    with open(\"ClientData_2.csv\") as outputfile:\n",
        "      Lines = outputfile.readlines()\n",
        "      for Lines in outputfile:\n",
        "          outputfile.write(line)"
      ]
    },
    {
      "cell_type": "code",
      "execution_count": null,
      "id": "41c29782",
      "metadata": {
        "id": "41c29782"
      },
      "outputs": [],
      "source": [
        "# Creating a list of filenames\n",
        "filenames = [\"ClientData_1.csv\", \"ClientData_2.csv\"]\n",
        "  \n",
        "# Open file3 in write mode\n",
        "with open(\"ClientData_3.csv\", 'w') as outfile:\n",
        "  \n",
        "    # Iterate through list\n",
        "    for names in filenames:\n",
        "  \n",
        "        # Open each file in read mode\n",
        "        with open(names) as infile:\n",
        "  \n",
        "            # read the data from file1 and\n",
        "            # file2 and write it in file3\n",
        "            outfile.write(infile.read())\n",
        "  \n",
        "        # Add '\\n' to enter data of file2\n",
        "        # from next line\n",
        "        outfile.write(\"\\n\")\n"
      ]
    }
  ],
  "metadata": {
    "kernelspec": {
      "display_name": "Python 3",
      "language": "python",
      "name": "python3"
    },
    "language_info": {
      "codemirror_mode": {
        "name": "ipython",
        "version": 3
      },
      "file_extension": ".py",
      "mimetype": "text/x-python",
      "name": "python",
      "nbconvert_exporter": "python",
      "pygments_lexer": "ipython3",
      "version": "3.8.8"
    },
    "colab": {
      "provenance": [],
      "include_colab_link": true
    }
  },
  "nbformat": 4,
  "nbformat_minor": 5
}
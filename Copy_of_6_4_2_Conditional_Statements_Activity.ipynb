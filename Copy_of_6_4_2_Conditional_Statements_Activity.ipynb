{
  "nbformat": 4,
  "nbformat_minor": 0,
  "metadata": {
    "colab": {
      "provenance": [],
      "include_colab_link": true
    },
    "kernelspec": {
      "name": "python3",
      "display_name": "Python 3"
    },
    "language_info": {
      "name": "python"
    }
  },
  "cells": [
    {
      "cell_type": "markdown",
      "metadata": {
        "id": "view-in-github",
        "colab_type": "text"
      },
      "source": [
        "<a href=\"https://colab.research.google.com/github/val93s/data_wrangling/blob/main/Copy_of_6_4_2_Conditional_Statements_Activity.ipynb\" target=\"_parent\"><img src=\"https://colab.research.google.com/assets/colab-badge.svg\" alt=\"Open In Colab\"/></a>"
      ]
    },
    {
      "cell_type": "markdown",
      "metadata": {
        "id": "jtDfDnucNFhM"
      },
      "source": [
        "#Lesson 6.4.2 Activity: Conditional Statements\n",
        "\n",
        "##The airline you work for is conducting a sentiment analysis of its customers.\n",
        "\n",
        "Ultimately, the airline wants to see how customer attitudes cluster around topics like armrest sharing, seat reclining, moving seats, and small children on flights.\n",
        "\n",
        "The airline communications team put together a customer survey, collected results, and assembled them in an Excel spreadsheet.  \n",
        "\n",
        "As we will see in a moment, the communications team has a very different idea of what data should look like compared to the data analytics team. We will need to clean the data and put it in a more Python-friendly format so that it can be used in a clustering algorithm later on.\n",
        "\n",
        "*The data used in this activity was adapted from [FiveThirtyEight Flying Etiquette Survey](https://github.com/fivethirtyeight/data/tree/master/flying-etiquette-survey) (accessed 7/20/2021)."
      ]
    },
    {
      "cell_type": "markdown",
      "metadata": {
        "id": "YVDbdDBDQVoS"
      },
      "source": [
        "#Step 1: Download and save the `flight_attitudes.csv` data set from the class materials  \n",
        "\n",
        "* Make a note of where you saved the file on your computer."
      ]
    },
    {
      "cell_type": "markdown",
      "metadata": {
        "id": "63UbfVKeQfsl"
      },
      "source": [
        "#Step 2: Upload the `flight_attitudes.csv` data set by running the following code block \n",
        "\n",
        "* When prompted, navigate to and select the `flight_attitudes.csv` data set where you saved it on your computer."
      ]
    },
    {
      "cell_type": "code",
      "metadata": {
        "id": "bxSC_MgQQUis",
        "outputId": "88ace07c-8cde-4fec-f2b3-f9086e5b3c27",
        "colab": {
          "base_uri": "https://localhost:8080/",
          "height": 73
        }
      },
      "source": [
        "#Step 2\n",
        "\n",
        "from google.colab import files\n",
        "flight_attitudes = files.upload()"
      ],
      "execution_count": null,
      "outputs": [
        {
          "output_type": "display_data",
          "data": {
            "text/plain": [
              "<IPython.core.display.HTML object>"
            ],
            "text/html": [
              "\n",
              "     <input type=\"file\" id=\"files-ad90ec5d-5e68-4f1e-bde1-14bf85d2fb83\" name=\"files[]\" multiple disabled\n",
              "        style=\"border:none\" />\n",
              "     <output id=\"result-ad90ec5d-5e68-4f1e-bde1-14bf85d2fb83\">\n",
              "      Upload widget is only available when the cell has been executed in the\n",
              "      current browser session. Please rerun this cell to enable.\n",
              "      </output>\n",
              "      <script>// Copyright 2017 Google LLC\n",
              "//\n",
              "// Licensed under the Apache License, Version 2.0 (the \"License\");\n",
              "// you may not use this file except in compliance with the License.\n",
              "// You may obtain a copy of the License at\n",
              "//\n",
              "//      http://www.apache.org/licenses/LICENSE-2.0\n",
              "//\n",
              "// Unless required by applicable law or agreed to in writing, software\n",
              "// distributed under the License is distributed on an \"AS IS\" BASIS,\n",
              "// WITHOUT WARRANTIES OR CONDITIONS OF ANY KIND, either express or implied.\n",
              "// See the License for the specific language governing permissions and\n",
              "// limitations under the License.\n",
              "\n",
              "/**\n",
              " * @fileoverview Helpers for google.colab Python module.\n",
              " */\n",
              "(function(scope) {\n",
              "function span(text, styleAttributes = {}) {\n",
              "  const element = document.createElement('span');\n",
              "  element.textContent = text;\n",
              "  for (const key of Object.keys(styleAttributes)) {\n",
              "    element.style[key] = styleAttributes[key];\n",
              "  }\n",
              "  return element;\n",
              "}\n",
              "\n",
              "// Max number of bytes which will be uploaded at a time.\n",
              "const MAX_PAYLOAD_SIZE = 100 * 1024;\n",
              "\n",
              "function _uploadFiles(inputId, outputId) {\n",
              "  const steps = uploadFilesStep(inputId, outputId);\n",
              "  const outputElement = document.getElementById(outputId);\n",
              "  // Cache steps on the outputElement to make it available for the next call\n",
              "  // to uploadFilesContinue from Python.\n",
              "  outputElement.steps = steps;\n",
              "\n",
              "  return _uploadFilesContinue(outputId);\n",
              "}\n",
              "\n",
              "// This is roughly an async generator (not supported in the browser yet),\n",
              "// where there are multiple asynchronous steps and the Python side is going\n",
              "// to poll for completion of each step.\n",
              "// This uses a Promise to block the python side on completion of each step,\n",
              "// then passes the result of the previous step as the input to the next step.\n",
              "function _uploadFilesContinue(outputId) {\n",
              "  const outputElement = document.getElementById(outputId);\n",
              "  const steps = outputElement.steps;\n",
              "\n",
              "  const next = steps.next(outputElement.lastPromiseValue);\n",
              "  return Promise.resolve(next.value.promise).then((value) => {\n",
              "    // Cache the last promise value to make it available to the next\n",
              "    // step of the generator.\n",
              "    outputElement.lastPromiseValue = value;\n",
              "    return next.value.response;\n",
              "  });\n",
              "}\n",
              "\n",
              "/**\n",
              " * Generator function which is called between each async step of the upload\n",
              " * process.\n",
              " * @param {string} inputId Element ID of the input file picker element.\n",
              " * @param {string} outputId Element ID of the output display.\n",
              " * @return {!Iterable<!Object>} Iterable of next steps.\n",
              " */\n",
              "function* uploadFilesStep(inputId, outputId) {\n",
              "  const inputElement = document.getElementById(inputId);\n",
              "  inputElement.disabled = false;\n",
              "\n",
              "  const outputElement = document.getElementById(outputId);\n",
              "  outputElement.innerHTML = '';\n",
              "\n",
              "  const pickedPromise = new Promise((resolve) => {\n",
              "    inputElement.addEventListener('change', (e) => {\n",
              "      resolve(e.target.files);\n",
              "    });\n",
              "  });\n",
              "\n",
              "  const cancel = document.createElement('button');\n",
              "  inputElement.parentElement.appendChild(cancel);\n",
              "  cancel.textContent = 'Cancel upload';\n",
              "  const cancelPromise = new Promise((resolve) => {\n",
              "    cancel.onclick = () => {\n",
              "      resolve(null);\n",
              "    };\n",
              "  });\n",
              "\n",
              "  // Wait for the user to pick the files.\n",
              "  const files = yield {\n",
              "    promise: Promise.race([pickedPromise, cancelPromise]),\n",
              "    response: {\n",
              "      action: 'starting',\n",
              "    }\n",
              "  };\n",
              "\n",
              "  cancel.remove();\n",
              "\n",
              "  // Disable the input element since further picks are not allowed.\n",
              "  inputElement.disabled = true;\n",
              "\n",
              "  if (!files) {\n",
              "    return {\n",
              "      response: {\n",
              "        action: 'complete',\n",
              "      }\n",
              "    };\n",
              "  }\n",
              "\n",
              "  for (const file of files) {\n",
              "    const li = document.createElement('li');\n",
              "    li.append(span(file.name, {fontWeight: 'bold'}));\n",
              "    li.append(span(\n",
              "        `(${file.type || 'n/a'}) - ${file.size} bytes, ` +\n",
              "        `last modified: ${\n",
              "            file.lastModifiedDate ? file.lastModifiedDate.toLocaleDateString() :\n",
              "                                    'n/a'} - `));\n",
              "    const percent = span('0% done');\n",
              "    li.appendChild(percent);\n",
              "\n",
              "    outputElement.appendChild(li);\n",
              "\n",
              "    const fileDataPromise = new Promise((resolve) => {\n",
              "      const reader = new FileReader();\n",
              "      reader.onload = (e) => {\n",
              "        resolve(e.target.result);\n",
              "      };\n",
              "      reader.readAsArrayBuffer(file);\n",
              "    });\n",
              "    // Wait for the data to be ready.\n",
              "    let fileData = yield {\n",
              "      promise: fileDataPromise,\n",
              "      response: {\n",
              "        action: 'continue',\n",
              "      }\n",
              "    };\n",
              "\n",
              "    // Use a chunked sending to avoid message size limits. See b/62115660.\n",
              "    let position = 0;\n",
              "    do {\n",
              "      const length = Math.min(fileData.byteLength - position, MAX_PAYLOAD_SIZE);\n",
              "      const chunk = new Uint8Array(fileData, position, length);\n",
              "      position += length;\n",
              "\n",
              "      const base64 = btoa(String.fromCharCode.apply(null, chunk));\n",
              "      yield {\n",
              "        response: {\n",
              "          action: 'append',\n",
              "          file: file.name,\n",
              "          data: base64,\n",
              "        },\n",
              "      };\n",
              "\n",
              "      let percentDone = fileData.byteLength === 0 ?\n",
              "          100 :\n",
              "          Math.round((position / fileData.byteLength) * 100);\n",
              "      percent.textContent = `${percentDone}% done`;\n",
              "\n",
              "    } while (position < fileData.byteLength);\n",
              "  }\n",
              "\n",
              "  // All done.\n",
              "  yield {\n",
              "    response: {\n",
              "      action: 'complete',\n",
              "    }\n",
              "  };\n",
              "}\n",
              "\n",
              "scope.google = scope.google || {};\n",
              "scope.google.colab = scope.google.colab || {};\n",
              "scope.google.colab._files = {\n",
              "  _uploadFiles,\n",
              "  _uploadFilesContinue,\n",
              "};\n",
              "})(self);\n",
              "</script> "
            ]
          },
          "metadata": {}
        },
        {
          "output_type": "stream",
          "name": "stdout",
          "text": [
            "Saving flight_attitudes.csv to flight_attitudes.csv\n"
          ]
        }
      ]
    },
    {
      "cell_type": "markdown",
      "metadata": {
        "id": "6mQ3_VhcR1WN"
      },
      "source": [
        "#Step 3: Import necessary packages\n",
        "  * Import `pandas` as `pd`\n"
      ]
    },
    {
      "cell_type": "code",
      "metadata": {
        "id": "oGQsWu2bRpp6"
      },
      "source": [
        "#Step 3\n",
        "import pandas as pd\n",
        "\n",
        "\n",
        "\n",
        "\n"
      ],
      "execution_count": null,
      "outputs": []
    },
    {
      "cell_type": "markdown",
      "metadata": {
        "id": "N3aT3Y28TLRX"
      },
      "source": [
        "# Step 4: Create a Pandas DataFrame from the CSV file\n",
        "* Name the DataFrame `flight_attitudes`\n",
        "* Print the first five observations of `flight_attitudes`.  Note how all the data is stored.  This looks pretty different than other data sets we've encountered!"
      ]
    },
    {
      "cell_type": "code",
      "metadata": {
        "id": "zR3wX0-OTach"
      },
      "source": [
        "#Step 4\n",
        "\n",
        "\n",
        "\n"
      ],
      "execution_count": null,
      "outputs": []
    },
    {
      "cell_type": "markdown",
      "metadata": {
        "id": "cqyJYeriSVor"
      },
      "source": [
        "#Step 5: Look at the data type of each variable\n",
        "* Use `.dtypes` to determine the data type of each column in the data set.\n",
        "* What do you notice about the column headings and responses recorded?\n"
      ]
    },
    {
      "cell_type": "code",
      "metadata": {
        "id": "PsAEJR9nLSiv"
      },
      "source": [
        "#Step 5\n",
        "\n",
        "\n",
        "\n"
      ],
      "execution_count": null,
      "outputs": []
    },
    {
      "cell_type": "markdown",
      "metadata": {
        "id": "-LxSihCXWC8G"
      },
      "source": [
        "#Step 5: \n",
        "\n",
        "Answer: "
      ]
    },
    {
      "cell_type": "markdown",
      "metadata": {
        "id": "S5rkhcFSU8ZS"
      },
      "source": [
        "#Fewer words, more numbers!\n",
        "* These entries are easy for humans to read, but Python machine-learning packages require data to be in a numeric format. \n",
        "* Later, when you get to the machine learning course, you'll learn about some built-in functions that can do the same sorts of data cleaning we'll do today; however, it's not a bad idea to work through the data wrangling ourselves and actually *see* what the functions are doing.\n",
        "\n",
        "\n",
        "\n",
        "\n"
      ]
    },
    {
      "cell_type": "markdown",
      "metadata": {
        "id": "NHWL-CTLCynT"
      },
      "source": [
        "#Step 6: Leavin' on a jet plane\n",
        "* Print the possible responses to `How often do you travel by plane?` using `.value_counts()`"
      ]
    },
    {
      "cell_type": "code",
      "metadata": {
        "id": "QGvlFsDaMDVU"
      },
      "source": [
        "#Step 6\n",
        "\n"
      ],
      "execution_count": null,
      "outputs": []
    },
    {
      "cell_type": "markdown",
      "metadata": {
        "id": "tBgXFLgtaPCp"
      },
      "source": [
        "#Step 7: Don't know when I'll be back again\n",
        "* We are going to clean and simplify this feature by categorizing it into two groups identified with a new feature called `frequent_flyer`. Your instructor will guide you through this step.\n",
        "* `frequent_flyer` will be equal to `0` if the passenger reported flying `Once a year or less` and `1` otherwise\n",
        "* Use `.loc` with the condition `flight_attitudes['How often do you travel by plane?'] == 'Once a year or less'`, the new variable `frequent_flyer` and value to assign to new variable = `0`\n",
        "* Use `.loc` with the condition `flight_attitudes['How often do you travel by plane?'] != 'Once a year or less'`, the new variable `frequent_flyer` and value to assign to new variable = `1`\n",
        "* Do a crosstab of `How often do you travel by plane?` and `frequent_flyer` to check your calculations.\n",
        "\n",
        "\n"
      ]
    },
    {
      "cell_type": "code",
      "metadata": {
        "id": "MYkE7EfObPDT"
      },
      "source": [
        "#Step 7\n",
        "\n",
        "\n"
      ],
      "execution_count": null,
      "outputs": []
    },
    {
      "cell_type": "markdown",
      "metadata": {
        "id": "UytEvxf6W7I9"
      },
      "source": [
        "#Step 8: It's my party, and I'll cry if I want to\n",
        "* Print the possible responses to `In general, is it rude to bring a baby on a plane?` using `.value_counts()`\n",
        "\n",
        "\n"
      ]
    },
    {
      "cell_type": "code",
      "metadata": {
        "id": "mj8um5KeWkAW"
      },
      "source": [
        "#Step 8\n",
        "\n"
      ],
      "execution_count": null,
      "outputs": []
    },
    {
      "cell_type": "markdown",
      "metadata": {
        "id": "5GSMfdmPQEOG"
      },
      "source": [
        "#Step 9: You would cry too if it happened to you\n",
        "* We are going to clean and simplify this feature by categorizing it into two groups identified with a new feature called `babies_okay`\n",
        "* `babies_okay` will be equal to `1` if the passenger reported that bringing a baby on a plane is `No, not at all rude` and `0` if they said it was somewhat or very rude.\n",
        "* Use `.loc` with the condition `flight_attitudes['In general, is it rude to bring a baby on a plane?'] == 'No, not at all rude'`, the new variable `babies_okay` and value to assign to new variable = `1`\n",
        "* Write another `.loc` statement to set `babies_okay` to `0` for the appropriate records.\n",
        "* Do a crosstab of `In general, is it rude to bring a baby on a plane?` and `babies_okay` to check your calculations.\n",
        "\n",
        "\n"
      ]
    },
    {
      "cell_type": "code",
      "metadata": {
        "id": "r5b9IU3zPxVv"
      },
      "source": [
        "#Step 9\n",
        "\n",
        "\n"
      ],
      "execution_count": null,
      "outputs": []
    },
    {
      "cell_type": "markdown",
      "metadata": {
        "id": "aRXoaGZcSeiU"
      },
      "source": [
        "#Step 10: Laid back\n",
        "* Print the possible responses to `Do you ever recline your seat when you fly?` using `.value_counts()`\n",
        "\n",
        "\n"
      ]
    },
    {
      "cell_type": "code",
      "metadata": {
        "id": "FVhkJmhgSJ0D"
      },
      "source": [
        "#Step 10\n",
        "\n"
      ],
      "execution_count": null,
      "outputs": []
    },
    {
      "cell_type": "markdown",
      "metadata": {
        "id": "ysG3nlAPTicb"
      },
      "source": [
        "#Step 11: I'm only sleeping\n",
        "* We are going to clean and simplify this feature by categorizing it into two groups identified with a new feature called `recline_okay`\n",
        "* `recline_okay` will be equal to `0` if the passenger reported reclining his or her seat `Never` or `Once in a while` and `1` if they said they reclined `Always`, `Usually`, or `About half the time`\n",
        "* Remember that you can use `&` (and) and `|` (or) in the condition in `.loc`\n",
        "* Do a crosstab of `Do you ever recline your seat when you fly?` and `recline_okay` to check your calculations.\n",
        "\n",
        "\n"
      ]
    },
    {
      "cell_type": "code",
      "metadata": {
        "id": "2mso6KuhUrCE"
      },
      "source": [
        "#Step 11\n",
        "\n",
        "\n"
      ],
      "execution_count": null,
      "outputs": []
    },
    {
      "cell_type": "markdown",
      "metadata": {
        "id": "imzWyff2mg21"
      },
      "source": [
        "#Step 12: I need my space!\n",
        "* Print the possible responses to `In a row of three seats, who should get to use the two arm rests?`  using `.value_counts()`\n",
        "* What is the most common expectation of the use of the arm rests for the middle two seats?\n",
        "\n",
        "\n"
      ]
    },
    {
      "cell_type": "code",
      "metadata": {
        "id": "x3p9gqNQSjjI"
      },
      "source": [
        "#Step 12\n",
        "\n"
      ],
      "execution_count": null,
      "outputs": []
    },
    {
      "cell_type": "markdown",
      "metadata": {
        "id": "wpKb-kB_SZCm"
      },
      "source": [
        "#Step 12: \n",
        "\n",
        "Answer: "
      ]
    }
  ]
}
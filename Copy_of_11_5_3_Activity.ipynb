{
  "nbformat": 4,
  "nbformat_minor": 0,
  "metadata": {
    "colab": {
      "provenance": [],
      "collapsed_sections": [
        "jtDfDnucNFhM",
        "YVDbdDBDQVoS"
      ],
      "include_colab_link": true
    },
    "kernelspec": {
      "name": "python3",
      "display_name": "Python 3"
    },
    "language_info": {
      "name": "python"
    }
  },
  "cells": [
    {
      "cell_type": "markdown",
      "metadata": {
        "id": "view-in-github",
        "colab_type": "text"
      },
      "source": [
        "<a href=\"https://colab.research.google.com/github/val93s/data_wrangling/blob/main/Copy_of_11_5_3_Activity.ipynb\" target=\"_parent\"><img src=\"https://colab.research.google.com/assets/colab-badge.svg\" alt=\"Open In Colab\"/></a>"
      ]
    },
    {
      "cell_type": "markdown",
      "metadata": {
        "id": "jtDfDnucNFhM"
      },
      "source": [
        "#Lesson 11.5.3 Activity\n",
        "\n",
        "##Breast Cancer Detection\n",
        "\n",
        "###According to the American Cancer Society:\n",
        "\n",
        "Breast cancer is the most common cancer in American women except for skin cancer. The average risk of a woman in the United States developing breast cancer sometime in her life is about 13%. This means there is a 1 in 8 chance that she will develop breast cancer.\n",
        "\n",
        "Mammograms are used to detect breast cancer, hopefully at an early stage; however, many masses that appear on a mammogram are not actually cancerous. Developing a machine learning model to predict whether a tumor is benign or cancerous would be helpful for physicians as they guide and treat patients. \n",
        "\n",
        "In the past two modules, you've worked with a subset of the measurements actually collected in this study. The entire data set contains the mean, standard deviation (SD), and *worst* value of each tumor measurement.  \n",
        "\n",
        "These are a lot of factors, and many of them are clearly related to one another. In this activity, you will tune your previous lasso and ridge regression models to determine the best value of C: the penalty that flattens the slope of the model."
      ]
    },
    {
      "cell_type": "markdown",
      "metadata": {
        "id": "YVDbdDBDQVoS"
      },
      "source": [
        "#Step 1: Download and save the `cancer_full.csv` data set from the class materials.  \n",
        "\n",
        "* Make a note of where you saved the file on your computer."
      ]
    },
    {
      "cell_type": "markdown",
      "metadata": {
        "id": "63UbfVKeQfsl"
      },
      "source": [
        "#Step 2: Upload the `cancer_full.csv` data set by running the following code block: \n",
        "\n",
        "* When prompted, navigate to where you saved the `cancer_full.csv` data set on your computer. Select the file. "
      ]
    },
    {
      "cell_type": "code",
      "metadata": {
        "id": "bxSC_MgQQUis",
        "colab": {
          "base_uri": "https://localhost:8080/",
          "height": 73
        },
        "outputId": "29d3714a-7cda-44a7-f1a8-7243c12831f8"
      },
      "source": [
        "#Step 2\n",
        "\n",
        "from google.colab import files\n",
        "cancer_full = files.upload()"
      ],
      "execution_count": null,
      "outputs": [
        {
          "output_type": "display_data",
          "data": {
            "text/plain": [
              "<IPython.core.display.HTML object>"
            ],
            "text/html": [
              "\n",
              "     <input type=\"file\" id=\"files-13e78643-e475-4e9e-9cd2-0a9f9887bbda\" name=\"files[]\" multiple disabled\n",
              "        style=\"border:none\" />\n",
              "     <output id=\"result-13e78643-e475-4e9e-9cd2-0a9f9887bbda\">\n",
              "      Upload widget is only available when the cell has been executed in the\n",
              "      current browser session. Please rerun this cell to enable.\n",
              "      </output>\n",
              "      <script>// Copyright 2017 Google LLC\n",
              "//\n",
              "// Licensed under the Apache License, Version 2.0 (the \"License\");\n",
              "// you may not use this file except in compliance with the License.\n",
              "// You may obtain a copy of the License at\n",
              "//\n",
              "//      http://www.apache.org/licenses/LICENSE-2.0\n",
              "//\n",
              "// Unless required by applicable law or agreed to in writing, software\n",
              "// distributed under the License is distributed on an \"AS IS\" BASIS,\n",
              "// WITHOUT WARRANTIES OR CONDITIONS OF ANY KIND, either express or implied.\n",
              "// See the License for the specific language governing permissions and\n",
              "// limitations under the License.\n",
              "\n",
              "/**\n",
              " * @fileoverview Helpers for google.colab Python module.\n",
              " */\n",
              "(function(scope) {\n",
              "function span(text, styleAttributes = {}) {\n",
              "  const element = document.createElement('span');\n",
              "  element.textContent = text;\n",
              "  for (const key of Object.keys(styleAttributes)) {\n",
              "    element.style[key] = styleAttributes[key];\n",
              "  }\n",
              "  return element;\n",
              "}\n",
              "\n",
              "// Max number of bytes which will be uploaded at a time.\n",
              "const MAX_PAYLOAD_SIZE = 100 * 1024;\n",
              "\n",
              "function _uploadFiles(inputId, outputId) {\n",
              "  const steps = uploadFilesStep(inputId, outputId);\n",
              "  const outputElement = document.getElementById(outputId);\n",
              "  // Cache steps on the outputElement to make it available for the next call\n",
              "  // to uploadFilesContinue from Python.\n",
              "  outputElement.steps = steps;\n",
              "\n",
              "  return _uploadFilesContinue(outputId);\n",
              "}\n",
              "\n",
              "// This is roughly an async generator (not supported in the browser yet),\n",
              "// where there are multiple asynchronous steps and the Python side is going\n",
              "// to poll for completion of each step.\n",
              "// This uses a Promise to block the python side on completion of each step,\n",
              "// then passes the result of the previous step as the input to the next step.\n",
              "function _uploadFilesContinue(outputId) {\n",
              "  const outputElement = document.getElementById(outputId);\n",
              "  const steps = outputElement.steps;\n",
              "\n",
              "  const next = steps.next(outputElement.lastPromiseValue);\n",
              "  return Promise.resolve(next.value.promise).then((value) => {\n",
              "    // Cache the last promise value to make it available to the next\n",
              "    // step of the generator.\n",
              "    outputElement.lastPromiseValue = value;\n",
              "    return next.value.response;\n",
              "  });\n",
              "}\n",
              "\n",
              "/**\n",
              " * Generator function which is called between each async step of the upload\n",
              " * process.\n",
              " * @param {string} inputId Element ID of the input file picker element.\n",
              " * @param {string} outputId Element ID of the output display.\n",
              " * @return {!Iterable<!Object>} Iterable of next steps.\n",
              " */\n",
              "function* uploadFilesStep(inputId, outputId) {\n",
              "  const inputElement = document.getElementById(inputId);\n",
              "  inputElement.disabled = false;\n",
              "\n",
              "  const outputElement = document.getElementById(outputId);\n",
              "  outputElement.innerHTML = '';\n",
              "\n",
              "  const pickedPromise = new Promise((resolve) => {\n",
              "    inputElement.addEventListener('change', (e) => {\n",
              "      resolve(e.target.files);\n",
              "    });\n",
              "  });\n",
              "\n",
              "  const cancel = document.createElement('button');\n",
              "  inputElement.parentElement.appendChild(cancel);\n",
              "  cancel.textContent = 'Cancel upload';\n",
              "  const cancelPromise = new Promise((resolve) => {\n",
              "    cancel.onclick = () => {\n",
              "      resolve(null);\n",
              "    };\n",
              "  });\n",
              "\n",
              "  // Wait for the user to pick the files.\n",
              "  const files = yield {\n",
              "    promise: Promise.race([pickedPromise, cancelPromise]),\n",
              "    response: {\n",
              "      action: 'starting',\n",
              "    }\n",
              "  };\n",
              "\n",
              "  cancel.remove();\n",
              "\n",
              "  // Disable the input element since further picks are not allowed.\n",
              "  inputElement.disabled = true;\n",
              "\n",
              "  if (!files) {\n",
              "    return {\n",
              "      response: {\n",
              "        action: 'complete',\n",
              "      }\n",
              "    };\n",
              "  }\n",
              "\n",
              "  for (const file of files) {\n",
              "    const li = document.createElement('li');\n",
              "    li.append(span(file.name, {fontWeight: 'bold'}));\n",
              "    li.append(span(\n",
              "        `(${file.type || 'n/a'}) - ${file.size} bytes, ` +\n",
              "        `last modified: ${\n",
              "            file.lastModifiedDate ? file.lastModifiedDate.toLocaleDateString() :\n",
              "                                    'n/a'} - `));\n",
              "    const percent = span('0% done');\n",
              "    li.appendChild(percent);\n",
              "\n",
              "    outputElement.appendChild(li);\n",
              "\n",
              "    const fileDataPromise = new Promise((resolve) => {\n",
              "      const reader = new FileReader();\n",
              "      reader.onload = (e) => {\n",
              "        resolve(e.target.result);\n",
              "      };\n",
              "      reader.readAsArrayBuffer(file);\n",
              "    });\n",
              "    // Wait for the data to be ready.\n",
              "    let fileData = yield {\n",
              "      promise: fileDataPromise,\n",
              "      response: {\n",
              "        action: 'continue',\n",
              "      }\n",
              "    };\n",
              "\n",
              "    // Use a chunked sending to avoid message size limits. See b/62115660.\n",
              "    let position = 0;\n",
              "    do {\n",
              "      const length = Math.min(fileData.byteLength - position, MAX_PAYLOAD_SIZE);\n",
              "      const chunk = new Uint8Array(fileData, position, length);\n",
              "      position += length;\n",
              "\n",
              "      const base64 = btoa(String.fromCharCode.apply(null, chunk));\n",
              "      yield {\n",
              "        response: {\n",
              "          action: 'append',\n",
              "          file: file.name,\n",
              "          data: base64,\n",
              "        },\n",
              "      };\n",
              "\n",
              "      let percentDone = fileData.byteLength === 0 ?\n",
              "          100 :\n",
              "          Math.round((position / fileData.byteLength) * 100);\n",
              "      percent.textContent = `${percentDone}% done`;\n",
              "\n",
              "    } while (position < fileData.byteLength);\n",
              "  }\n",
              "\n",
              "  // All done.\n",
              "  yield {\n",
              "    response: {\n",
              "      action: 'complete',\n",
              "    }\n",
              "  };\n",
              "}\n",
              "\n",
              "scope.google = scope.google || {};\n",
              "scope.google.colab = scope.google.colab || {};\n",
              "scope.google.colab._files = {\n",
              "  _uploadFiles,\n",
              "  _uploadFilesContinue,\n",
              "};\n",
              "})(self);\n",
              "</script> "
            ]
          },
          "metadata": {}
        },
        {
          "output_type": "stream",
          "name": "stdout",
          "text": [
            "Saving cancer_full.csv to cancer_full (1).csv\n"
          ]
        }
      ]
    },
    {
      "cell_type": "markdown",
      "metadata": {
        "id": "6mQ3_VhcR1WN"
      },
      "source": [
        "#Step 3: Import necessary packages.\n",
        "\n",
        "```\n",
        "import pandas as pd\n",
        "import matplotlib.pyplot as plt\n",
        "from sklearn.model_selection import train_test_split\n",
        "from sklearn.linear_model import LogisticRegression\n",
        "from sklearn.preprocessing import StandardScaler\n",
        "from sklearn.pipeline import Pipeline\n",
        "from sklearn.model_selection import cross_val_score\n",
        "\n",
        "```"
      ]
    },
    {
      "cell_type": "code",
      "metadata": {
        "id": "oGQsWu2bRpp6"
      },
      "source": [
        "#Step 3\n",
        "import pandas as pd\n",
        "import matplotlib.pyplot as plt\n",
        "from sklearn.model_selection import train_test_split\n",
        "from sklearn.linear_model import LogisticRegression\n",
        "from sklearn.preprocessing import StandardScaler\n",
        "from sklearn.pipeline import Pipeline\n",
        "from sklearn.model_selection import cross_val_score\n",
        "\n",
        "\n"
      ],
      "execution_count": null,
      "outputs": []
    },
    {
      "cell_type": "markdown",
      "metadata": {
        "id": "N3aT3Y28TLRX"
      },
      "source": [
        "# Step 4: Prepare the data. \n",
        "* Run the following code block to complete all the steps to prepare the data for modeling."
      ]
    },
    {
      "cell_type": "code",
      "metadata": {
        "id": "zR3wX0-OTach"
      },
      "source": [
        "#Step 4\n",
        "\n",
        "cancer_full = pd.read_csv('cancer_full.csv')\n",
        "\n",
        "cancer_full.loc[cancer_full['diagnosis'] == 'M', 'cancer_present'] = 1\n",
        "cancer_full.loc[cancer_full['diagnosis'] == 'B', 'cancer_present'] = 0\n",
        "\n",
        "y = cancer_full['cancer_present']\n",
        "X = cancer_full.drop(['id','diagnosis','cancer_present'], axis=1)\n",
        "\n",
        "X_train, X_test, y_train, y_test = train_test_split(X, y, test_size=0.25, random_state=42)\n",
        "\n",
        "\n"
      ],
      "execution_count": null,
      "outputs": []
    },
    {
      "cell_type": "markdown",
      "metadata": {
        "id": "cc0hcx6cMZGI"
      },
      "source": [
        "#Step 5: Grid search for C in the ridge regression model.\n",
        "* At the top of the code block, initialize an empty list named `cv_accuracy` to collect the mean 10-fold CV accuracy for each value of C.\n",
        "* At the top of the code block, initialize a list named `C_options` containing the values `[0.01, 0.3, 0.5, 1, 2, 5, 10]`. These will be the values of C that you will try in your model. Remember that C=1 is the default.\n",
        "* The for-loop will build an individual ridge regression model for each value of C and calculate the mean accuracy for 10-fold cross-validation.\n",
        "* The results are stored in a list named `cv_accuracy`.\n"
      ]
    },
    {
      "cell_type": "code",
      "metadata": {
        "id": "6Vjdzadz5kX8"
      },
      "source": [
        "#Step 5\n",
        "\n",
        "cv_accuracy =[]\n",
        "C_options =[0.01, 0.3, 0.5, 1, 2, 5, 10]\n",
        "\n",
        "for option in C_options:\n",
        "  pipe_l2     = Pipeline([('scaler', StandardScaler()), \n",
        "                      ('log_reg', LogisticRegression(random_state=0, penalty='l2', solver='liblinear', C=option))])\n",
        "\n",
        "  pipe_l2.fit(X_train, y_train)\n",
        "  \n",
        "  l2_scores = cross_val_score(pipe_l2, X_train, y_train, cv=10)\n",
        "  l2_cv_accuracy = l2_scores.mean()\n",
        "\n",
        "  cv_accuracy.append(l2_cv_accuracy)\n",
        "\n",
        "\n"
      ],
      "execution_count": null,
      "outputs": []
    },
    {
      "cell_type": "markdown",
      "metadata": {
        "id": "Uu8Ytfv_Pt70"
      },
      "source": [
        "#Step 6: Plot mean accuracy for each value of C.\n",
        "* Plot the value of C on the x-axis vs. the mean accuracy on the y-axis.\n",
        "* There are many ways to do this including the following:\n",
        "\n",
        "```\n",
        "plt.plot(C_options, cv_accuracy)\n",
        "plt.xlabel('C')\n",
        "plt.ylabel('Accuracy')\n",
        "plt.show()\n",
        "```\n",
        "\n",
        "* What value of C results in the highest cross-validation accuracy?"
      ]
    },
    {
      "cell_type": "code",
      "metadata": {
        "id": "_rWlJ8FBP1Cd",
        "colab": {
          "base_uri": "https://localhost:8080/",
          "height": 279
        },
        "outputId": "edda1f21-0e47-4b85-cd6b-545ad9e21eaa"
      },
      "source": [
        "#Step 6\n",
        "plt.plot(C_options, cv_accuracy)\n",
        "plt.xlabel('C')\n",
        "plt.ylabel('Accuracy')\n",
        "plt.show()\n",
        "\n"
      ],
      "execution_count": null,
      "outputs": [
        {
          "output_type": "display_data",
          "data": {
            "text/plain": [
              "<Figure size 432x288 with 1 Axes>"
            ],
            "image/png": "[encoded data removed]"
          },
          "metadata": {
            "needs_background": "light"
          }
        }
      ]
    },
    {
      "cell_type": "markdown",
      "source": [
        "*   **Answer:**\n"
      ],
      "metadata": {
        "id": "kNk_Py0BNdu8"
      }
    },
    {
      "cell_type": "markdown",
      "metadata": {
        "id": "-h_qjtbTQlQN"
      },
      "source": [
        "#Step 7: Grid search for C in the lasso regression model.\n",
        "* At the top of the code block, initialize an empty list named `cv_accuracy` to collect the mean 10-fold CV accuracy for each value of C.\n",
        "* At the top of the code block, initialize a list named `C_options` containing the values `[0.01, 0.3, 0.5, 1, 2, 5, 10]`. These will be the values of C that you will try in your model. Remember that C=1 is the default.\n",
        "* The for-loop will build an individual lasso regression model for each value of C and calculate the mean accuracy for 10-fold cross-validation.\n",
        "* The results are stored in a list named `cv_accuracy`.\n"
      ]
    },
    {
      "cell_type": "code",
      "metadata": {
        "id": "PM5CaFdNiO8z"
      },
      "source": [
        "#Step 7\n",
        "\n",
        "cv_accuracy =[]\n",
        "C_options =[0.01, 0.3, 0.5, 1, 2, 5, 10]\n",
        "\n",
        "\n",
        "for option in C_options:\n",
        "  pipe_l1     = Pipeline([('scaler', StandardScaler()), \n",
        "                      ('log_reg', LogisticRegression(random_state=0, penalty='l1', solver='liblinear', C=option))])\n",
        "\n",
        "  pipe_l1.fit(X_train, y_train)\n",
        "\n",
        "  l1_scores = cross_val_score(pipe_l1, X_train, y_train, cv=10)\n",
        "  l1_cv_accuracy = l1_scores.mean()\n",
        "\n",
        "  cv_accuracy.append(l1_cv_accuracy)\n"
      ],
      "execution_count": null,
      "outputs": []
    },
    {
      "cell_type": "markdown",
      "metadata": {
        "id": "cSh2nV_DRf9B"
      },
      "source": [
        "#Step 8: Plot mean accuracy for each value of C.\n",
        "* Plot the value of C on the x-axis vs. the mean accuracy on the y-axis.\n",
        "* There are many ways to do this including the following:\n",
        "\n",
        "```\n",
        "plt.plot(C_options, cv_accuracy)\n",
        "plt.xlabel('C')\n",
        "plt.ylabel('Accuracy')\n",
        "plt.show()\n",
        "```\n",
        "\n",
        "* What value of C results in the highest cross-validation accuracy?"
      ]
    },
    {
      "cell_type": "code",
      "metadata": {
        "id": "jUE-uUu44MjY",
        "colab": {
          "base_uri": "https://localhost:8080/",
          "height": 279
        },
        "outputId": "6922aa74-db06-4a27-b3b9-a08946cb2fee"
      },
      "source": [
        "#Step 8\n",
        "plt.plot(C_options, cv_accuracy)\n",
        "plt.xlabel('C')\n",
        "plt.ylabel('Accuracy')\n",
        "plt.show()\n"
      ],
      "execution_count": null,
      "outputs": [
        {
          "output_type": "display_data",
          "data": {
            "text/plain": [
              "<Figure size 432x288 with 1 Axes>"
            ],
            "image/png": "[encoded data removed]"
          },
          "metadata": {
            "needs_background": "light"
          }
        }
      ]
    },
    {
      "cell_type": "markdown",
      "metadata": {
        "id": "Sqf1rnXBM0M4"
      },
      "source": [
        "#Step 9: Print the 10-fold CV accuracy for both models with C=1.\n",
        "* Recall that C=1 is the default.\n",
        "* **Hint:** If you need help, you can select the relevant code from the for-loop and replace the value of C with 1 (or simply delete it).\n",
        "* Identify the most accurate model.  Does ridge regression or lasso regresson perform the best for this data?\n",
        "\n",
        "\n",
        "\n",
        "\n"
      ]
    },
    {
      "cell_type": "code",
      "metadata": {
        "id": "KBPXxrH1DQE7",
        "colab": {
          "base_uri": "https://localhost:8080/"
        },
        "outputId": "ed3456b3-eb90-4090-f4f7-ea136ab8d394"
      },
      "source": [
        "#Step 9\n",
        "pipe_l2 = Pipeline([('scaler', StandardScaler()),\n",
        "                  ('log_reg', LogisticRegression(random_state=0, penalty='l2', solver='liblinear'))])\n",
        "\n",
        "pipe_l2.fit(X_train, y_train)\n",
        "\n",
        "l2_scores = cross_val_score(pipe_l2, X_train, y_train, cv=10)\n",
        "\n",
        "l2_cv_accuracy =l2_scores.mean()\n",
        "\n",
        "print('The mean 10-fold accuracy for the ridge regression model is', l2_cv_accuracy)\n",
        "\n",
        "pipe_l1 = Pipeline([('scaler', StandardScaler()),\n",
        "                  ('log_reg', LogisticRegression(random_state=0, penalty='l1', solver='liblinear'))])\n",
        "\n",
        "pipe_l1.fit(X_train, y_train)\n",
        "\n",
        "l1_scores = cross_val_score(pipe_l1, X_train, y_train, cv=10)\n",
        "\n",
        "l1_cv_accuracy = l1_scores.mean()\n",
        "\n",
        "print('The mean 10-fold CV accuracy for the lasso regression model is ', l1_cv_accuracy)"
      ],
      "execution_count": null,
      "outputs": [
        {
          "output_type": "stream",
          "name": "stdout",
          "text": [
            "The mean 10-fold accuracy for the ridge regression model is 0.9740863787375416\n",
            "The mean 10-fold CV accuracy for the lasso regression model is  0.9717054263565892\n"
          ]
        }
      ]
    },
    {
      "cell_type": "markdown",
      "metadata": {
        "id": "kQDhy0pATTAl"
      },
      "source": [
        "*   **Answer:**\n",
        "\n"
      ]
    },
    {
      "cell_type": "markdown",
      "metadata": {
        "id": "0zXHZu9TNaR7"
      },
      "source": [
        "#Step 10: Test the ridge regression model on the testing data.  \n",
        "* Is the accuracy still high?\n",
        "\n",
        "\n",
        "\n",
        "\n"
      ]
    },
    {
      "cell_type": "code",
      "metadata": {
        "id": "Ktg10qT4mgBj",
        "colab": {
          "base_uri": "https://localhost:8080/"
        },
        "outputId": "83249ccf-e916-4bd9-fd0d-f4327077d151"
      },
      "source": [
        "#Step 10\n",
        "l2_testing_accuracy = pipe_l2.score(X_test, y_test)\n",
        "print('The testing accuracy for the ridge regression model is', l2_testing_accuracy)\n",
        "\n",
        "l1_testing_accuracy = pipe_l1.score(X_test, y_test)\n",
        "print('The testing accuracy for the ridge regression model is', l1_testing_accuracy)\n",
        "\n",
        "\n",
        "\n",
        "\n"
      ],
      "execution_count": null,
      "outputs": [
        {
          "output_type": "stream",
          "name": "stdout",
          "text": [
            "The testing accuracy for the ridge regression model is 0.9790209790209791\n",
            "The testing accuracy for the ridge regression model is 0.972027972027972\n"
          ]
        }
      ]
    },
    {
      "cell_type": "markdown",
      "metadata": {
        "id": "MlyVkZc1GEjX"
      },
      "source": [
        "*   **Answer:**\n",
        "\n",
        "\n",
        "\n",
        "\n",
        "\n",
        "\n",
        "\n",
        "\n"
      ]
    }
  ]
}
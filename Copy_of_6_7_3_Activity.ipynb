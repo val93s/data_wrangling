{
  "nbformat": 4,
  "nbformat_minor": 5,
  "metadata": {
    "kernelspec": {
      "display_name": "Python 3",
      "language": "python",
      "name": "python3"
    },
    "language_info": {
      "codemirror_mode": {
        "name": "ipython",
        "version": 3
      },
      "file_extension": ".py",
      "mimetype": "text/x-python",
      "name": "python",
      "nbconvert_exporter": "python",
      "pygments_lexer": "ipython3",
      "version": "3.8.8"
    },
    "colab": {
      "provenance": [],
      "include_colab_link": true
    }
  },
  "cells": [
    {
      "cell_type": "markdown",
      "metadata": {
        "id": "view-in-github",
        "colab_type": "text"
      },
      "source": [
        "<a href=\"https://colab.research.google.com/github/val93s/data_wrangling/blob/main/Copy_of_6_7_3_Activity.ipynb\" target=\"_parent\"><img src=\"https://colab.research.google.com/assets/colab-badge.svg\" alt=\"Open In Colab\"/></a>"
      ]
    },
    {
      "cell_type": "markdown",
      "metadata": {
        "id": "bc6d18a1"
      },
      "source": [
        "# Lesson: Stationary Processes\n",
        "\n",
        "In this activity, you will determine if the California Wildfires time series data is stationary.  If it is not, you will see if a transformation can remove some of the trend over time. "
      ],
      "id": "bc6d18a1"
    },
    {
      "cell_type": "markdown",
      "metadata": {
        "id": "YVDbdDBDQVoS"
      },
      "source": [
        "#Step 1: Download and Save the `CA_Wildfires.csv` Dataset From the Class Materials  \n",
        "\n",
        "* Make a note of where you saved the file on your computer."
      ],
      "id": "YVDbdDBDQVoS"
    },
    {
      "cell_type": "markdown",
      "metadata": {
        "id": "63UbfVKeQfsl"
      },
      "source": [
        "#Step 2: Upload the `CA_Wildfires.csv` Dataset by Running the Following Code Block \n",
        "\n",
        "* When prompted, navigate to and select the `CA_Wildfires.csv` dataset where you saved it on your computer.\n",
        "* This is a pretty large dataset, so it may take a little while."
      ],
      "id": "63UbfVKeQfsl"
    },
    {
      "cell_type": "code",
      "metadata": {
        "id": "bxSC_MgQQUis"
      },
      "source": [
        "#Step 2\n",
        "\n",
        "from google.colab import files\n",
        "heights = files.upload()"
      ],
      "execution_count": null,
      "outputs": [],
      "id": "bxSC_MgQQUis"
    },
    {
      "cell_type": "markdown",
      "metadata": {
        "id": "8ea92563"
      },
      "source": [
        "## Step 3: Import Required Libraries \n",
        "\n",
        "Import `pandas as pd` the `pyplot` module from `matplotlib as plt` and `datetime`."
      ],
      "id": "8ea92563"
    },
    {
      "cell_type": "code",
      "metadata": {
        "id": "6bde286d"
      },
      "source": [
        "#Step 3\n",
        "\n",
        "\n"
      ],
      "id": "6bde286d",
      "execution_count": null,
      "outputs": []
    },
    {
      "cell_type": "markdown",
      "metadata": {
        "id": "fce2187e"
      },
      "source": [
        "# Step 4: Read the CSV File and Get Column and Row Information \n",
        "\n",
        "Create a DataFrame called `Fires` from the `CA_Wildfires.csv`. Call the `.info()` function to review the columns and their datatypes."
      ],
      "id": "fce2187e"
    },
    {
      "cell_type": "code",
      "metadata": {
        "id": "223e7b68"
      },
      "source": [
        "#Step 4\n",
        "\n"
      ],
      "id": "223e7b68",
      "execution_count": null,
      "outputs": []
    },
    {
      "cell_type": "markdown",
      "metadata": {
        "id": "79EVYW6uu6hC"
      },
      "source": [
        "# Step 5: Determine the Data of Each Fire\n",
        "\n",
        "Run the following code block to format the fire start data correctly."
      ],
      "id": "79EVYW6uu6hC"
    },
    {
      "cell_type": "code",
      "metadata": {
        "id": "6f7109f5"
      },
      "source": [
        "#Step 5\n",
        "\n",
        "Fires['Date'] = pd.to_datetime(Fires['FIRE_YEAR'] * 1000 + Fires['DISCOVERY_DOY'], format='%Y%j')"
      ],
      "id": "6f7109f5",
      "execution_count": null,
      "outputs": []
    },
    {
      "cell_type": "markdown",
      "metadata": {
        "id": "qrG4ZMH4x5qX"
      },
      "source": [
        "# Step 6: Plot the Data\n",
        "\n",
        "Use `Fires['Date'].plot()` to plot the time series.  \n",
        "\n",
        "Is this a stationary process?"
      ],
      "id": "qrG4ZMH4x5qX"
    },
    {
      "cell_type": "code",
      "metadata": {
        "id": "7877e124"
      },
      "source": [
        "#Step 6\n",
        "\n"
      ],
      "id": "7877e124",
      "execution_count": null,
      "outputs": []
    },
    {
      "cell_type": "markdown",
      "source": [
        "**Step 6 Answer:**\n",
        "\n"
      ],
      "metadata": {
        "id": "seZHnAtmyamX"
      },
      "id": "seZHnAtmyamX"
    },
    {
      "cell_type": "markdown",
      "metadata": {
        "id": "DGSmxpv1y3-0"
      },
      "source": [
        "# Step 7: Difference the Data\n",
        "\n",
        "Run the following code block to difference the data.  The results will be stored in a Pandas series called `diff`."
      ],
      "id": "DGSmxpv1y3-0"
    },
    {
      "cell_type": "code",
      "metadata": {
        "id": "b04d131f"
      },
      "source": [
        "#Step 7\n",
        "\n",
        "def difference(dataset, interval=1):\n",
        "    diff = list()\n",
        "    for i in range(interval, len(dataset)):\n",
        "        value = dataset[i] - dataset[i - interval]\n",
        "        diff.append(value)\n",
        "    return pd.Series(diff)\n",
        "\n",
        "x = Fires['Date'].values\n",
        "diff = difference(x)\n",
        "\n",
        "print(diff)"
      ],
      "id": "b04d131f",
      "execution_count": null,
      "outputs": []
    },
    {
      "cell_type": "markdown",
      "metadata": {
        "id": "EyzjkgbI0NUR"
      },
      "source": [
        "# Step 8: Plot the Differenced Data\n",
        "\n",
        "Use `plt.plot(diff)` to plot the differenced time series data.  \n",
        "\n",
        "Does the time series appear stationary now?"
      ],
      "id": "EyzjkgbI0NUR"
    },
    {
      "cell_type": "code",
      "metadata": {
        "id": "b3ba9acd"
      },
      "source": [
        "#Step 8\n",
        "\n",
        "\n"
      ],
      "id": "b3ba9acd",
      "execution_count": null,
      "outputs": []
    },
    {
      "cell_type": "markdown",
      "source": [
        "**Step 8 Answer:**\n",
        "\n"
      ],
      "metadata": {
        "id": "ackTYjdK0mti"
      },
      "id": "ackTYjdK0mti"
    }
  ]
}
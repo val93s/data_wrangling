{
  "nbformat": 4,
  "nbformat_minor": 0,
  "metadata": {
    "colab": {
      "provenance": [],
      "include_colab_link": true
    },
    "kernelspec": {
      "name": "python3",
      "display_name": "Python 3"
    },
    "language_info": {
      "name": "python"
    }
  },
  "cells": [
    {
      "cell_type": "markdown",
      "metadata": {
        "id": "view-in-github",
        "colab_type": "text"
      },
      "source": [
        "<a href=\"https://colab.research.google.com/github/val93s/data_wrangling/blob/main/Copy_of_6_7_1_Activity_Imputing_missing_time_series_data.ipynb\" target=\"_parent\"><img src=\"https://colab.research.google.com/assets/colab-badge.svg\" alt=\"Open In Colab\"/></a>"
      ]
    },
    {
      "cell_type": "code",
      "execution_count": null,
      "metadata": {
        "id": "gK07-STN5GvH"
      },
      "outputs": [],
      "source": [
        "import pandas as pd\n",
        "import numpy as np\n",
        "\n",
        "time_index = pd.date_range(\"2/22/2022\", periods=6, freq=\"W\")\n",
        "\n",
        "df = pd.DataFrame(index=time_index);\n",
        "    \n",
        "df[\"Defects\"] = [5.0,4.0,np.nan,np.nan,1.0,np.nan];\n",
        "print(df)"
      ]
    },
    {
      "cell_type": "code",
      "source": [
        "df1= df.interpolate();\n",
        "print(df1)"
      ],
      "metadata": {
        "id": "ErBAN_DQ6qYd"
      },
      "execution_count": null,
      "outputs": []
    },
    {
      "cell_type": "code",
      "source": [
        "df2 = df.ffill()\n",
        "print(df2)"
      ],
      "metadata": {
        "id": "XuuDlNsr61p8"
      },
      "execution_count": null,
      "outputs": []
    },
    {
      "cell_type": "code",
      "source": [
        "df3 = df.bfill();\n",
        "print(df3)"
      ],
      "metadata": {
        "id": "WaSlz2M168Y_"
      },
      "execution_count": null,
      "outputs": []
    }
  ]
}